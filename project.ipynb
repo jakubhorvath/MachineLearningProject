{
 "cells": [
  {
   "cell_type": "markdown",
   "id": "c07c12d7-917f-4861-addb-8e15d5064e3f",
   "metadata": {},
   "source": [
    "# Machine Learning Project"
   ]
  },
  {
   "cell_type": "markdown",
   "id": "7347ee08-069b-42b9-a450-709d8710200a",
   "metadata": {},
   "source": [
    "### Load the data into a dataframe"
   ]
  },
  {
   "cell_type": "code",
   "execution_count": 1,
   "id": "df4a289a-23e3-4557-ab29-02efa3a3ed6e",
   "metadata": {},
   "outputs": [
    {
     "data": {
      "text/html": [
       "<div>\n",
       "<style scoped>\n",
       "    .dataframe tbody tr th:only-of-type {\n",
       "        vertical-align: middle;\n",
       "    }\n",
       "\n",
       "    .dataframe tbody tr th {\n",
       "        vertical-align: top;\n",
       "    }\n",
       "\n",
       "    .dataframe thead th {\n",
       "        text-align: right;\n",
       "    }\n",
       "</style>\n",
       "<table border=\"1\" class=\"dataframe\">\n",
       "  <thead>\n",
       "    <tr style=\"text-align: right;\">\n",
       "      <th></th>\n",
       "      <th>URL</th>\n",
       "      <th>URL_LENGTH</th>\n",
       "      <th>NUMBER_SPECIAL_CHARACTERS</th>\n",
       "      <th>CHARSET</th>\n",
       "      <th>SERVER</th>\n",
       "      <th>CONTENT_LENGTH</th>\n",
       "      <th>WHOIS_COUNTRY</th>\n",
       "      <th>WHOIS_STATEPRO</th>\n",
       "      <th>WHOIS_REGDATE</th>\n",
       "      <th>WHOIS_UPDATED_DATE</th>\n",
       "      <th>...</th>\n",
       "      <th>DIST_REMOTE_TCP_PORT</th>\n",
       "      <th>REMOTE_IPS</th>\n",
       "      <th>APP_BYTES</th>\n",
       "      <th>SOURCE_APP_PACKETS</th>\n",
       "      <th>REMOTE_APP_PACKETS</th>\n",
       "      <th>SOURCE_APP_BYTES</th>\n",
       "      <th>REMOTE_APP_BYTES</th>\n",
       "      <th>APP_PACKETS</th>\n",
       "      <th>DNS_QUERY_TIMES</th>\n",
       "      <th>Type</th>\n",
       "    </tr>\n",
       "  </thead>\n",
       "  <tbody>\n",
       "    <tr>\n",
       "      <th>0</th>\n",
       "      <td>B0_2314</td>\n",
       "      <td>16</td>\n",
       "      <td>6</td>\n",
       "      <td>UTF-8</td>\n",
       "      <td>Apache/2.4.10</td>\n",
       "      <td>15087.0</td>\n",
       "      <td>None</td>\n",
       "      <td>None</td>\n",
       "      <td>None</td>\n",
       "      <td>None</td>\n",
       "      <td>...</td>\n",
       "      <td>7</td>\n",
       "      <td>4</td>\n",
       "      <td>1230</td>\n",
       "      <td>17</td>\n",
       "      <td>19</td>\n",
       "      <td>1265</td>\n",
       "      <td>1230</td>\n",
       "      <td>17</td>\n",
       "      <td>0.0</td>\n",
       "      <td>0</td>\n",
       "    </tr>\n",
       "    <tr>\n",
       "      <th>1</th>\n",
       "      <td>B0_911</td>\n",
       "      <td>16</td>\n",
       "      <td>6</td>\n",
       "      <td>us-ascii</td>\n",
       "      <td>Microsoft-HTTPAPI/2.0</td>\n",
       "      <td>324.0</td>\n",
       "      <td>None</td>\n",
       "      <td>None</td>\n",
       "      <td>None</td>\n",
       "      <td>None</td>\n",
       "      <td>...</td>\n",
       "      <td>0</td>\n",
       "      <td>0</td>\n",
       "      <td>0</td>\n",
       "      <td>0</td>\n",
       "      <td>0</td>\n",
       "      <td>0</td>\n",
       "      <td>0</td>\n",
       "      <td>0</td>\n",
       "      <td>0.0</td>\n",
       "      <td>0</td>\n",
       "    </tr>\n",
       "    <tr>\n",
       "      <th>2</th>\n",
       "      <td>B0_113</td>\n",
       "      <td>17</td>\n",
       "      <td>6</td>\n",
       "      <td>ISO-8859-1</td>\n",
       "      <td>nginx</td>\n",
       "      <td>162.0</td>\n",
       "      <td>US</td>\n",
       "      <td>AK</td>\n",
       "      <td>7/10/1997 4:00</td>\n",
       "      <td>12/09/2013 0:45</td>\n",
       "      <td>...</td>\n",
       "      <td>22</td>\n",
       "      <td>3</td>\n",
       "      <td>3812</td>\n",
       "      <td>39</td>\n",
       "      <td>37</td>\n",
       "      <td>18784</td>\n",
       "      <td>4380</td>\n",
       "      <td>39</td>\n",
       "      <td>8.0</td>\n",
       "      <td>0</td>\n",
       "    </tr>\n",
       "    <tr>\n",
       "      <th>3</th>\n",
       "      <td>B0_403</td>\n",
       "      <td>17</td>\n",
       "      <td>6</td>\n",
       "      <td>UTF-8</td>\n",
       "      <td>None</td>\n",
       "      <td>124140.0</td>\n",
       "      <td>US</td>\n",
       "      <td>TX</td>\n",
       "      <td>12/05/1996 0:00</td>\n",
       "      <td>11/04/2017 0:00</td>\n",
       "      <td>...</td>\n",
       "      <td>2</td>\n",
       "      <td>5</td>\n",
       "      <td>4278</td>\n",
       "      <td>61</td>\n",
       "      <td>62</td>\n",
       "      <td>129889</td>\n",
       "      <td>4586</td>\n",
       "      <td>61</td>\n",
       "      <td>4.0</td>\n",
       "      <td>0</td>\n",
       "    </tr>\n",
       "    <tr>\n",
       "      <th>4</th>\n",
       "      <td>B0_2064</td>\n",
       "      <td>18</td>\n",
       "      <td>7</td>\n",
       "      <td>UTF-8</td>\n",
       "      <td>nginx</td>\n",
       "      <td>NaN</td>\n",
       "      <td>SC</td>\n",
       "      <td>Mahe</td>\n",
       "      <td>3/08/2016 14:30</td>\n",
       "      <td>3/10/2016 3:45</td>\n",
       "      <td>...</td>\n",
       "      <td>6</td>\n",
       "      <td>9</td>\n",
       "      <td>894</td>\n",
       "      <td>11</td>\n",
       "      <td>13</td>\n",
       "      <td>838</td>\n",
       "      <td>894</td>\n",
       "      <td>11</td>\n",
       "      <td>0.0</td>\n",
       "      <td>0</td>\n",
       "    </tr>\n",
       "  </tbody>\n",
       "</table>\n",
       "<p>5 rows × 21 columns</p>\n",
       "</div>"
      ],
      "text/plain": [
       "       URL  URL_LENGTH  NUMBER_SPECIAL_CHARACTERS     CHARSET  \\\n",
       "0  B0_2314          16                          6       UTF-8   \n",
       "1   B0_911          16                          6    us-ascii   \n",
       "2   B0_113          17                          6  ISO-8859-1   \n",
       "3   B0_403          17                          6       UTF-8   \n",
       "4  B0_2064          18                          7       UTF-8   \n",
       "\n",
       "                  SERVER  CONTENT_LENGTH WHOIS_COUNTRY WHOIS_STATEPRO  \\\n",
       "0          Apache/2.4.10         15087.0          None           None   \n",
       "1  Microsoft-HTTPAPI/2.0           324.0          None           None   \n",
       "2                  nginx           162.0            US             AK   \n",
       "3                   None        124140.0            US             TX   \n",
       "4                  nginx             NaN            SC           Mahe   \n",
       "\n",
       "     WHOIS_REGDATE WHOIS_UPDATED_DATE  ...  DIST_REMOTE_TCP_PORT  REMOTE_IPS  \\\n",
       "0             None               None  ...                     7           4   \n",
       "1             None               None  ...                     0           0   \n",
       "2   7/10/1997 4:00    12/09/2013 0:45  ...                    22           3   \n",
       "3  12/05/1996 0:00    11/04/2017 0:00  ...                     2           5   \n",
       "4  3/08/2016 14:30     3/10/2016 3:45  ...                     6           9   \n",
       "\n",
       "   APP_BYTES  SOURCE_APP_PACKETS  REMOTE_APP_PACKETS  SOURCE_APP_BYTES  \\\n",
       "0       1230                  17                  19              1265   \n",
       "1          0                   0                   0                 0   \n",
       "2       3812                  39                  37             18784   \n",
       "3       4278                  61                  62            129889   \n",
       "4        894                  11                  13               838   \n",
       "\n",
       "   REMOTE_APP_BYTES  APP_PACKETS  DNS_QUERY_TIMES  Type  \n",
       "0              1230           17              0.0     0  \n",
       "1                 0            0              0.0     0  \n",
       "2              4380           39              8.0     0  \n",
       "3              4586           61              4.0     0  \n",
       "4               894           11              0.0     0  \n",
       "\n",
       "[5 rows x 21 columns]"
      ]
     },
     "execution_count": 1,
     "metadata": {},
     "output_type": "execute_result"
    }
   ],
   "source": [
    "import pandas as pd\n",
    "import seaborn as sns\n",
    "\n",
    "data = pd.read_csv(\"Train.csv\")\n",
    "data.head()"
   ]
  },
  {
   "cell_type": "markdown",
   "id": "25bfd868-8639-4982-b878-bdfad097e62d",
   "metadata": {},
   "source": [
    "### Encode the character features "
   ]
  },
  {
   "cell_type": "code",
   "execution_count": 2,
   "id": "c3f45748-ba93-4037-9a40-4388df24c689",
   "metadata": {},
   "outputs": [],
   "source": [
    "# TODO "
   ]
  },
  {
   "cell_type": "code",
   "execution_count": 3,
   "id": "9c195bb1-9dfd-4a12-b1dd-eab14a0a3acf",
   "metadata": {},
   "outputs": [
    {
     "data": {
      "text/plain": [
       "<AxesSubplot:>"
      ]
     },
     "execution_count": 3,
     "metadata": {},
     "output_type": "execute_result"
    },
    {
     "data": {
      "image/png": "[encoded data removed]",
      "text/plain": [
       "<Figure size 432x288 with 2 Axes>"
      ]
     },
     "metadata": {
      "needs_background": "light"
     },
     "output_type": "display_data"
    }
   ],
   "source": [
    "sns.heatmap(data.corr())"
   ]
  },
  {
   "cell_type": "code",
   "execution_count": 4,
   "id": "976cf72c-19be-4155-9428-1f8e86c1679a",
   "metadata": {},
   "outputs": [],
   "source": [
    "# so that the WHOIS_COUNTRY column is the same each run\n",
    "data[\"CHARSET\"] = pd.read_csv(\"Train.csv\")[\"CHARSET\"]"
   ]
  },
  {
   "cell_type": "code",
   "execution_count": 5,
   "id": "46f0273c-c065-4c4e-bdfc-3871a450c212",
   "metadata": {},
   "outputs": [],
   "source": [
    "from sklearn.preprocessing import OneHotEncoder\n",
    "\n",
    "data[\"CHARSET\"]= data[\"CHARSET\"].apply(lambda x: x.upper())\n",
    "#list(X.value_counts().index)\n",
    "index  = 0\n",
    "array = []\n",
    "for name in list(data[\"CHARSET\"].value_counts().index):\n",
    "    array.append([name, index])\n",
    "    index += 1\n",
    "\n",
    "CHARSET_enc = OneHotEncoder(drop='first').fit(array)\n",
    "dictionary = {}\n",
    "\n",
    "cats = CHARSET_enc.categories_[0]\n",
    "indices = CHARSET_enc.categories_[1]\n",
    "for cat, index in zip(cats, indices):\n",
    "    dictionary[cat] = index\n",
    "\n",
    "charset = [[charset, dictionary[charset]] for charset in list(data[\"CHARSET\"])]\n",
    "#CHARSET_enc.transform(array).toarray()\n",
    "#CHARSET_enc.transform([list(data[\"CHARSET\"])]).toarray()\n",
    "\n",
    "data[\"CHARSET\"] = CHARSET_enc.transform(charset).toarray()"
   ]
  },
  {
   "cell_type": "code",
   "execution_count": 6,
   "id": "2907d275-0123-41f3-bf27-544e35243ce3",
   "metadata": {},
   "outputs": [],
   "source": [
    "# so that the WHOIS_COUNTRY column is the same each run\n",
    "data[\"SERVER\"] = pd.read_csv(\"Train.csv\")[\"SERVER\"]"
   ]
  },
  {
   "cell_type": "code",
   "execution_count": 7,
   "id": "87b308be-5e77-43bc-bb04-cfe1652ca6ff",
   "metadata": {},
   "outputs": [],
   "source": [
    "\n",
    "X = data[\"SERVER\"].fillna(\"None\")\n",
    "\n",
    "index  = 0\n",
    "array = []\n",
    "for name in list(X.value_counts().index):\n",
    "    array.append([name, index])\n",
    "    index += 1\n",
    "\n",
    "SERVER_enc = OneHotEncoder(drop='first').fit(array)\n",
    "\n",
    "dictionary = {}\n",
    "cats = SERVER_enc.categories_[0]\n",
    "indices = SERVER_enc.categories_[1]\n",
    "for cat, index in zip(cats, indices):\n",
    "    dictionary[cat] = index\n",
    "    \n",
    "server = [[server, dictionary[server]] for server in list(data[\"SERVER\"].fillna(\"None\"))]\n",
    "data[\"SERVER\"] = SERVER_enc.transform(server).toarray()"
   ]
  },
  {
   "cell_type": "code",
   "execution_count": 8,
   "id": "ddc38e97-4d0e-4e5c-8d02-a7cf3d1981eb",
   "metadata": {},
   "outputs": [],
   "source": [
    "# so that the WHOIS_COUNTRY column is the same each run\n",
    "data[\"WHOIS_COUNTRY\"] = pd.read_csv(\"Train.csv\")[\"WHOIS_COUNTRY\"]"
   ]
  },
  {
   "cell_type": "code",
   "execution_count": 9,
   "id": "b48548c0-4383-46a1-ab57-db9a243fa0f5",
   "metadata": {
    "tags": []
   },
   "outputs": [],
   "source": [
    "# so that the WHOIS_COUNTRY column is the same each run\n",
    "data[\"WHOIS_COUNTRY\"] = pd.read_csv(\"Train.csv\")[\"WHOIS_COUNTRY\"]\n",
    "\n",
    "data[\"WHOIS_COUNTRY\"] = data[\"WHOIS_COUNTRY\"].apply(lambda x: x.upper())\n",
    "data[\"WHOIS_COUNTRY\"] = data[\"WHOIS_COUNTRY\"].str.replace('UNITED KINGDOM', 'UK', case= False) \n",
    "data[\"WHOIS_COUNTRY\"] = data[\"WHOIS_COUNTRY\"].fillna(\"NONE\")\n",
    "X= data[\"WHOIS_COUNTRY\"]\n",
    "index  = 0\n",
    "array = []\n",
    "for name in list(X.value_counts().index):\n",
    "    array.append([name, index])\n",
    "    index += 1\n",
    "\n",
    "COUNTRY_enc = OneHotEncoder(drop='first').fit(array)\n",
    "\n",
    "dictionary = {}\n",
    "cats = COUNTRY_enc.categories_[0]\n",
    "indices = COUNTRY_enc.categories_[1]\n",
    "for cat, index in zip(cats, indices):\n",
    "    dictionary[cat] = index\n",
    "\n",
    "\n",
    "country = [[country, dictionary[country]] for country in list(data[\"WHOIS_COUNTRY\"].fillna(\"NONE\"))]\n",
    "data[\"WHOIS_COUNTRY\"] = COUNTRY_enc.transform(country).toarray()"
   ]
  },
  {
   "cell_type": "markdown",
   "id": "50f5306c-4fe0-4516-80fc-b5e00d83f73e",
   "metadata": {},
   "source": [
    "### Features most highly correlated with Type"
   ]
  },
  {
   "cell_type": "code",
   "execution_count": 10,
   "id": "09b52b99-efad-4614-a737-9ba07ad61873",
   "metadata": {},
   "outputs": [
    {
     "data": {
      "text/plain": [
       "URL_LENGTH                   0.150140\n",
       "NUMBER_SPECIAL_CHARACTERS    0.262379\n",
       "CHARSET                     -0.010574\n",
       "SERVER                      -0.009349\n",
       "CONTENT_LENGTH              -0.098117\n",
       "WHOIS_COUNTRY               -0.018719\n",
       "TCP_CONVERSATION_EXCHANGE   -0.048396\n",
       "DIST_REMOTE_TCP_PORT        -0.077496\n",
       "REMOTE_IPS                  -0.067438\n",
       "APP_BYTES                   -0.011302\n",
       "SOURCE_APP_PACKETS          -0.040544\n",
       "REMOTE_APP_PACKETS          -0.037299\n",
       "SOURCE_APP_BYTES            -0.058839\n",
       "REMOTE_APP_BYTES            -0.011090\n",
       "APP_PACKETS                 -0.040544\n",
       "DNS_QUERY_TIMES              0.062952\n",
       "Type                         1.000000\n",
       "Name: Type, dtype: float64"
      ]
     },
     "execution_count": 10,
     "metadata": {},
     "output_type": "execute_result"
    }
   ],
   "source": [
    "data.corr()[\"Type\"]"
   ]
  },
  {
   "cell_type": "markdown",
   "id": "cf3159ec-dd50-4548-bc1d-51958171f1f1",
   "metadata": {},
   "source": [
    "### Top 5 correlated features\n",
    "- NUMBER_SPECIAL_CHARACTERS\n",
    "- URL_LENGTH\n",
    "- CONTENT_LENGTH\n",
    "- DIST_REMOTE_TCP_PORT\n",
    "- REMOTE_IPS"
   ]
  },
  {
   "cell_type": "code",
   "execution_count": 11,
   "id": "bff59a08-0c7f-46ce-9d56-6625c3324f3b",
   "metadata": {},
   "outputs": [
    {
     "name": "stdout",
     "output_type": "stream",
     "text": [
      "NAs present in CONTENT_LENGTH: True\n",
      "NAs present in NUMBER_SPECIAL_CHARACTERS: False\n",
      "NAs present in URL_LENGTH: False\n",
      "NAs present in DIST_REMOTE_TCP_PORT: False\n",
      "NAs present in REMOTE_IPS: False\n"
     ]
    }
   ],
   "source": [
    "print(\"NAs present in CONTENT_LENGTH:\", any(data[\"CONTENT_LENGTH\"].isna()))\n",
    "print(\"NAs present in NUMBER_SPECIAL_CHARACTERS:\", any(data[\"NUMBER_SPECIAL_CHARACTERS\"].isna()))\n",
    "print(\"NAs present in URL_LENGTH:\", any(data[\"URL_LENGTH\"].isna()))\n",
    "print(\"NAs present in DIST_REMOTE_TCP_PORT:\", any(data[\"DIST_REMOTE_TCP_PORT\"].isna()))\n",
    "print(\"NAs present in REMOTE_IPS:\", any(data[\"REMOTE_IPS\"].isna()))"
   ]
  },
  {
   "cell_type": "markdown",
   "id": "58ad5de7-19ad-4e35-83c4-ad5fd686bdc0",
   "metadata": {},
   "source": [
    "### Only CONTENT_LENGTH needs to be cleaned\n",
    "##### Linear regression is applied to missing values\n",
    "- The rows could be omitted, however rows with missing \"CONTENT_LENGTH\" are often of \"Type\" 1, the lesser class and we therefore want to avoid dropping these\n",
    "\n",
    "##### Another alternative is to replace these with 0 and see if the classifier is able to predict using this information"
   ]
  },
  {
   "cell_type": "markdown",
   "id": "a8fa53a2-1b64-45da-bdcb-e8ff826b97c9",
   "metadata": {},
   "source": [
    "### Regress the values"
   ]
  },
  {
   "cell_type": "code",
   "execution_count": 12,
   "id": "6a442ecd-ad58-4443-a030-8e7274d0e9a6",
   "metadata": {},
   "outputs": [
    {
     "data": {
      "text/plain": [
       "URL_LENGTH                   0.067569\n",
       "NUMBER_SPECIAL_CHARACTERS    0.075240\n",
       "CHARSET                     -0.172040\n",
       "SERVER                       0.000628\n",
       "CONTENT_LENGTH               1.000000\n",
       "WHOIS_COUNTRY               -0.024586\n",
       "TCP_CONVERSATION_EXCHANGE    0.225403\n",
       "DIST_REMOTE_TCP_PORT        -0.001285\n",
       "REMOTE_IPS                   0.021816\n",
       "APP_BYTES                    0.140473\n",
       "SOURCE_APP_PACKETS           0.207385\n",
       "REMOTE_APP_PACKETS           0.239295\n",
       "SOURCE_APP_BYTES             0.269330\n",
       "REMOTE_APP_BYTES             0.128048\n",
       "APP_PACKETS                  0.207385\n",
       "DNS_QUERY_TIMES             -0.043746\n",
       "Type                        -0.098117\n",
       "Name: CONTENT_LENGTH, dtype: float64"
      ]
     },
     "execution_count": 12,
     "metadata": {},
     "output_type": "execute_result"
    }
   ],
   "source": [
    "data.corr()[\"CONTENT_LENGTH\"]"
   ]
  },
  {
   "cell_type": "code",
   "execution_count": 13,
   "id": "ae61565b-73ab-4ebf-80d9-263fa84e35c9",
   "metadata": {},
   "outputs": [],
   "source": [
    "# select CONTENT_LENGTH rows with non-missing values\n",
    "non_na_rows = data[data[\"CONTENT_LENGTH\"].notna()]\n",
    "# TODO there is a better way to do this\n",
    "\n",
    "\n",
    "# select the highest correlated columns\n",
    "reg_X = non_na_rows[[\"TCP_CONVERSATION_EXCHANGE\", \"REMOTE_APP_PACKETS\", \"SOURCE_APP_PACKETS\", \"SOURCE_APP_BYTES\", \"APP_PACKETS\"]]\n",
    "reg_y = non_na_rows[\"CONTENT_LENGTH\"]"
   ]
  },
  {
   "cell_type": "code",
   "execution_count": 14,
   "id": "beeb4999-ecd6-44d9-a359-8d63b8d73ac7",
   "metadata": {},
   "outputs": [],
   "source": [
    "from sklearn.linear_model import LinearRegression\n",
    "\n",
    "regressor = LinearRegression().fit(reg_X, reg_y)\n",
    "\n",
    "# fill rows with missing values using regressor"
   ]
  },
  {
   "cell_type": "markdown",
   "id": "6201b7f0-979f-4cc7-8372-a67e5bb4be77",
   "metadata": {},
   "source": [
    "### Check Success rate of regressor"
   ]
  },
  {
   "cell_type": "code",
   "execution_count": null,
   "id": "f914668d-eead-48dc-9a22-bfdfb3ff203f",
   "metadata": {},
   "outputs": [],
   "source": []
  },
  {
   "cell_type": "markdown",
   "id": "54de3dac-e271-4b1e-9c80-9ef1088cb77d",
   "metadata": {},
   "source": [
    "### Predict missing values "
   ]
  },
  {
   "cell_type": "code",
   "execution_count": 15,
   "id": "3efa01bf-3207-4c5c-8075-320b5f313ded",
   "metadata": {},
   "outputs": [],
   "source": [
    "content_length_values = list(data[\"CONTENT_LENGTH\"])\n",
    "nas = list(data[\"CONTENT_LENGTH\"].isna())\n",
    "na_rows = data[data[\"CONTENT_LENGTH\"].isna()][[\"TCP_CONVERSATION_EXCHANGE\", \"REMOTE_APP_PACKETS\", \"SOURCE_APP_PACKETS\", \"SOURCE_APP_BYTES\", \"APP_PACKETS\"]]\n",
    "predictions = regressor.predict(na_rows)\n",
    "\n",
    "\n",
    "index = 0\n",
    "for i in range(len(nas)):\n",
    "    if nas[i]:\n",
    "        content_length_values[i] = predictions[index]\n",
    "        index += 1\n",
    "data_copy = data.copy()\n",
    "data_copy[\"CONTENT_LENGTH\"] = content_length_values"
   ]
  },
  {
   "cell_type": "markdown",
   "id": "b6f4d9f8-2c68-4c1f-9963-1c2c4ccd8c30",
   "metadata": {},
   "source": [
    "### Replace with 0"
   ]
  },
  {
   "cell_type": "code",
   "execution_count": 16,
   "id": "174a9278-4a4c-40c3-9a50-9e7221858364",
   "metadata": {},
   "outputs": [],
   "source": [
    "X = data[[\"URL_LENGTH\", \"NUMBER_SPECIAL_CHARACTERS\", \"DIST_REMOTE_TCP_PORT\", \"REMOTE_IPS\"]]\n",
    "y = data[\"Type\"]\n",
    "X_cleaned = data_copy[[\"URL_LENGTH\", \"NUMBER_SPECIAL_CHARACTERS\", \"DIST_REMOTE_TCP_PORT\", \"REMOTE_IPS\", \"CONTENT_LENGTH\"]]"
   ]
  },
  {
   "cell_type": "code",
   "execution_count": 17,
   "id": "b3c39db9-b224-4102-b532-8336f49ca73b",
   "metadata": {},
   "outputs": [
    {
     "data": {
      "text/plain": [
       "0.9023255813953488"
      ]
     },
     "execution_count": 17,
     "metadata": {},
     "output_type": "execute_result"
    }
   ],
   "source": [
    "from sklearn.model_selection import train_test_split\n",
    "from sklearn.linear_model import LogisticRegression\n",
    "from sklearn.metrics import accuracy_score\n",
    "\n",
    "X_train, X_test, y_train, y_test = train_test_split(X,y, test_size=0.3, random_state=42)\n",
    "LR = LogisticRegression().fit(X_train, y_train)\n",
    "accuracy_score(y_test, LR.predict(X_test))"
   ]
  },
  {
   "cell_type": "code",
   "execution_count": 18,
   "id": "a3b1360e-cb5b-4c81-93fb-b827cc9a22df",
   "metadata": {},
   "outputs": [
    {
     "name": "stderr",
     "output_type": "stream",
     "text": [
      "/home/jakubhorvath/anaconda3/envs/LTR_annotator/lib/python3.9/site-packages/sklearn/linear_model/_logistic.py:763: ConvergenceWarning: lbfgs failed to converge (status=1):\n",
      "STOP: TOTAL NO. of ITERATIONS REACHED LIMIT.\n",
      "\n",
      "Increase the number of iterations (max_iter) or scale the data as shown in:\n",
      "    https://scikit-learn.org/stable/modules/preprocessing.html\n",
      "Please also refer to the documentation for alternative solver options:\n",
      "    https://scikit-learn.org/stable/modules/linear_model.html#logistic-regression\n",
      "  n_iter_i = _check_optimize_result(\n"
     ]
    },
    {
     "data": {
      "text/plain": [
       "0.9"
      ]
     },
     "execution_count": 18,
     "metadata": {},
     "output_type": "execute_result"
    }
   ],
   "source": [
    "# classification with the regressed CONTENT_LENGTH\n",
    "\n",
    "X_train, X_test, y_train, y_test = train_test_split(X_cleaned, y, test_size=0.3, random_state=42)\n",
    "LR = LogisticRegression().fit(X_train, y_train)\n",
    "accuracy_score(y_test, LR.predict(X_test))"
   ]
  },
  {
   "cell_type": "code",
   "execution_count": 19,
   "id": "2c25cf03-af28-4fb8-baac-10653c70ac68",
   "metadata": {},
   "outputs": [],
   "source": [
    "### A lot less class 1 than class 0, need to find ways of replicating or selecting same amount of classes"
   ]
  },
  {
   "cell_type": "markdown",
   "id": "b95c5d3c-c765-45af-88ba-bb5cf89bf8f7",
   "metadata": {},
   "source": [
    "### Sample the same number of examples from class 1 and 0"
   ]
  },
  {
   "cell_type": "code",
   "execution_count": 20,
   "id": "73936ab7-fced-41a7-8b0c-e5ec2a0fe6ba",
   "metadata": {},
   "outputs": [],
   "source": [
    "class_1 = data[data[\"Type\"] == 1]\n",
    "n_class_1 = len(class_1)\n",
    "class_0 = data[data[\"Type\"] == 0].sample(n=n_class_1, random_state=1)\n",
    "\n",
    "X = pd.concat([class_1, class_0])\n",
    "Y = X[\"Type\"]\n",
    "X = X.drop([\"Type\"], axis=1)\n",
    "X_train, X_test, y_train, y_test = train_test_split(X, Y, test_size=0.3, random_state=42)"
   ]
  },
  {
   "cell_type": "code",
   "execution_count": 25,
   "id": "4b173940-764b-4bc6-94c6-8b311f3e6ba5",
   "metadata": {},
   "outputs": [],
   "source": [
    "class_1 = data_copy[data_copy[\"Type\"] == 1]\n",
    "n_class_1 = len(class_1)\n",
    "class_0 = data_copy[data_copy[\"Type\"] == 0].sample(n=n_class_1, random_state=1)\n",
    "\n",
    "X = pd.concat([class_1, class_0])\n",
    "Y = X[\"Type\"]\n",
    "X = X.drop([\"Type\"], axis=1)\n",
    "X_train, X_test, y_train, y_test = train_test_split(X, Y, test_size=0.3, random_state=42)"
   ]
  },
  {
   "cell_type": "code",
   "execution_count": 41,
   "id": "4726a206-9950-4edb-be28-9d9c8e3fa139",
   "metadata": {},
   "outputs": [],
   "source": [
    "X_train = X_train[[\"URL_LENGTH\", \"NUMBER_SPECIAL_CHARACTERS\", \"DIST_REMOTE_TCP_PORT\", \"REMOTE_IPS\"]].to_numpy()\n",
    "X_test = X_test[[\"URL_LENGTH\", \"NUMBER_SPECIAL_CHARACTERS\", \"DIST_REMOTE_TCP_PORT\", \"REMOTE_IPS\"]].to_numpy()\n",
    "\n",
    "#TODO append another column of one hot encoded features"
   ]
  },
  {
   "cell_type": "code",
   "execution_count": 42,
   "id": "9f318575-ac12-4f7d-8b90-b40218198958",
   "metadata": {},
   "outputs": [],
   "source": [
    "LR = LogisticRegression().fit(X_train, y_train)"
   ]
  },
  {
   "cell_type": "code",
   "execution_count": 43,
   "id": "d8b52c4f-26c7-4620-a6bb-b1077c5c4178",
   "metadata": {},
   "outputs": [
    {
     "data": {
      "text/plain": [
       "0.8229166666666666"
      ]
     },
     "execution_count": 43,
     "metadata": {},
     "output_type": "execute_result"
    }
   ],
   "source": [
    "accuracy_score(y_test, LR.predict(X_test))"
   ]
  },
  {
   "cell_type": "code",
   "execution_count": null,
   "id": "103d8627-482c-4a8d-8a32-a8b6dc401bf9",
   "metadata": {},
   "outputs": [],
   "source": []
  }
 ],
 "metadata": {
  "kernelspec": {
   "display_name": "Python 3",
   "language": "python",
   "name": "python3"
  },
  "language_info": {
   "codemirror_mode": {
    "name": "ipython",
    "version": 3
   },
   "file_extension": ".py",
   "mimetype": "text/x-python",
   "name": "python",
   "nbconvert_exporter": "python",
   "pygments_lexer": "ipython3",
   "version": "3.9.5"
  }
 },
 "nbformat": 4,
 "nbformat_minor": 5
}
