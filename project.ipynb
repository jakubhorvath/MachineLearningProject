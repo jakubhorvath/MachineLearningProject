{
 "cells": [
  {
   "cell_type": "markdown",
   "id": "c07c12d7-917f-4861-addb-8e15d5064e3f",
   "metadata": {},
   "source": [
    "# Machine Learning Project"
   ]
  },
  {
   "cell_type": "markdown",
   "id": "7347ee08-069b-42b9-a450-709d8710200a",
   "metadata": {},
   "source": [
    "### Load the data into a dataframe"
   ]
  },
  {
   "cell_type": "code",
   "execution_count": 4,
   "id": "df4a289a-23e3-4557-ab29-02efa3a3ed6e",
   "metadata": {},
   "outputs": [
    {
     "data": {
      "text/html": [
       "<div>\n",
       "<style scoped>\n",
       "    .dataframe tbody tr th:only-of-type {\n",
       "        vertical-align: middle;\n",
       "    }\n",
       "\n",
       "    .dataframe tbody tr th {\n",
       "        vertical-align: top;\n",
       "    }\n",
       "\n",
       "    .dataframe thead th {\n",
       "        text-align: right;\n",
       "    }\n",
       "</style>\n",
       "<table border=\"1\" class=\"dataframe\">\n",
       "  <thead>\n",
       "    <tr style=\"text-align: right;\">\n",
       "      <th></th>\n",
       "      <th>URL</th>\n",
       "      <th>URL_LENGTH</th>\n",
       "      <th>NUMBER_SPECIAL_CHARACTERS</th>\n",
       "      <th>CHARSET</th>\n",
       "      <th>SERVER</th>\n",
       "      <th>CONTENT_LENGTH</th>\n",
       "      <th>WHOIS_COUNTRY</th>\n",
       "      <th>WHOIS_STATEPRO</th>\n",
       "      <th>WHOIS_REGDATE</th>\n",
       "      <th>WHOIS_UPDATED_DATE</th>\n",
       "      <th>...</th>\n",
       "      <th>DIST_REMOTE_TCP_PORT</th>\n",
       "      <th>REMOTE_IPS</th>\n",
       "      <th>APP_BYTES</th>\n",
       "      <th>SOURCE_APP_PACKETS</th>\n",
       "      <th>REMOTE_APP_PACKETS</th>\n",
       "      <th>SOURCE_APP_BYTES</th>\n",
       "      <th>REMOTE_APP_BYTES</th>\n",
       "      <th>APP_PACKETS</th>\n",
       "      <th>DNS_QUERY_TIMES</th>\n",
       "      <th>Type</th>\n",
       "    </tr>\n",
       "  </thead>\n",
       "  <tbody>\n",
       "    <tr>\n",
       "      <th>0</th>\n",
       "      <td>B0_2314</td>\n",
       "      <td>16</td>\n",
       "      <td>6</td>\n",
       "      <td>UTF-8</td>\n",
       "      <td>Apache/2.4.10</td>\n",
       "      <td>15087.0</td>\n",
       "      <td>None</td>\n",
       "      <td>None</td>\n",
       "      <td>None</td>\n",
       "      <td>None</td>\n",
       "      <td>...</td>\n",
       "      <td>7</td>\n",
       "      <td>4</td>\n",
       "      <td>1230</td>\n",
       "      <td>17</td>\n",
       "      <td>19</td>\n",
       "      <td>1265</td>\n",
       "      <td>1230</td>\n",
       "      <td>17</td>\n",
       "      <td>0.0</td>\n",
       "      <td>0</td>\n",
       "    </tr>\n",
       "    <tr>\n",
       "      <th>1</th>\n",
       "      <td>B0_911</td>\n",
       "      <td>16</td>\n",
       "      <td>6</td>\n",
       "      <td>us-ascii</td>\n",
       "      <td>Microsoft-HTTPAPI/2.0</td>\n",
       "      <td>324.0</td>\n",
       "      <td>None</td>\n",
       "      <td>None</td>\n",
       "      <td>None</td>\n",
       "      <td>None</td>\n",
       "      <td>...</td>\n",
       "      <td>0</td>\n",
       "      <td>0</td>\n",
       "      <td>0</td>\n",
       "      <td>0</td>\n",
       "      <td>0</td>\n",
       "      <td>0</td>\n",
       "      <td>0</td>\n",
       "      <td>0</td>\n",
       "      <td>0.0</td>\n",
       "      <td>0</td>\n",
       "    </tr>\n",
       "    <tr>\n",
       "      <th>2</th>\n",
       "      <td>B0_113</td>\n",
       "      <td>17</td>\n",
       "      <td>6</td>\n",
       "      <td>ISO-8859-1</td>\n",
       "      <td>nginx</td>\n",
       "      <td>162.0</td>\n",
       "      <td>US</td>\n",
       "      <td>AK</td>\n",
       "      <td>7/10/1997 4:00</td>\n",
       "      <td>12/09/2013 0:45</td>\n",
       "      <td>...</td>\n",
       "      <td>22</td>\n",
       "      <td>3</td>\n",
       "      <td>3812</td>\n",
       "      <td>39</td>\n",
       "      <td>37</td>\n",
       "      <td>18784</td>\n",
       "      <td>4380</td>\n",
       "      <td>39</td>\n",
       "      <td>8.0</td>\n",
       "      <td>0</td>\n",
       "    </tr>\n",
       "    <tr>\n",
       "      <th>3</th>\n",
       "      <td>B0_403</td>\n",
       "      <td>17</td>\n",
       "      <td>6</td>\n",
       "      <td>UTF-8</td>\n",
       "      <td>None</td>\n",
       "      <td>124140.0</td>\n",
       "      <td>US</td>\n",
       "      <td>TX</td>\n",
       "      <td>12/05/1996 0:00</td>\n",
       "      <td>11/04/2017 0:00</td>\n",
       "      <td>...</td>\n",
       "      <td>2</td>\n",
       "      <td>5</td>\n",
       "      <td>4278</td>\n",
       "      <td>61</td>\n",
       "      <td>62</td>\n",
       "      <td>129889</td>\n",
       "      <td>4586</td>\n",
       "      <td>61</td>\n",
       "      <td>4.0</td>\n",
       "      <td>0</td>\n",
       "    </tr>\n",
       "    <tr>\n",
       "      <th>4</th>\n",
       "      <td>B0_2064</td>\n",
       "      <td>18</td>\n",
       "      <td>7</td>\n",
       "      <td>UTF-8</td>\n",
       "      <td>nginx</td>\n",
       "      <td>NaN</td>\n",
       "      <td>SC</td>\n",
       "      <td>Mahe</td>\n",
       "      <td>3/08/2016 14:30</td>\n",
       "      <td>3/10/2016 3:45</td>\n",
       "      <td>...</td>\n",
       "      <td>6</td>\n",
       "      <td>9</td>\n",
       "      <td>894</td>\n",
       "      <td>11</td>\n",
       "      <td>13</td>\n",
       "      <td>838</td>\n",
       "      <td>894</td>\n",
       "      <td>11</td>\n",
       "      <td>0.0</td>\n",
       "      <td>0</td>\n",
       "    </tr>\n",
       "  </tbody>\n",
       "</table>\n",
       "<p>5 rows × 21 columns</p>\n",
       "</div>"
      ],
      "text/plain": [
       "       URL  URL_LENGTH  NUMBER_SPECIAL_CHARACTERS     CHARSET  \\\n",
       "0  B0_2314          16                          6       UTF-8   \n",
       "1   B0_911          16                          6    us-ascii   \n",
       "2   B0_113          17                          6  ISO-8859-1   \n",
       "3   B0_403          17                          6       UTF-8   \n",
       "4  B0_2064          18                          7       UTF-8   \n",
       "\n",
       "                  SERVER  CONTENT_LENGTH WHOIS_COUNTRY WHOIS_STATEPRO  \\\n",
       "0          Apache/2.4.10         15087.0          None           None   \n",
       "1  Microsoft-HTTPAPI/2.0           324.0          None           None   \n",
       "2                  nginx           162.0            US             AK   \n",
       "3                   None        124140.0            US             TX   \n",
       "4                  nginx             NaN            SC           Mahe   \n",
       "\n",
       "     WHOIS_REGDATE WHOIS_UPDATED_DATE  ...  DIST_REMOTE_TCP_PORT  REMOTE_IPS  \\\n",
       "0             None               None  ...                     7           4   \n",
       "1             None               None  ...                     0           0   \n",
       "2   7/10/1997 4:00    12/09/2013 0:45  ...                    22           3   \n",
       "3  12/05/1996 0:00    11/04/2017 0:00  ...                     2           5   \n",
       "4  3/08/2016 14:30     3/10/2016 3:45  ...                     6           9   \n",
       "\n",
       "   APP_BYTES  SOURCE_APP_PACKETS  REMOTE_APP_PACKETS  SOURCE_APP_BYTES  \\\n",
       "0       1230                  17                  19              1265   \n",
       "1          0                   0                   0                 0   \n",
       "2       3812                  39                  37             18784   \n",
       "3       4278                  61                  62            129889   \n",
       "4        894                  11                  13               838   \n",
       "\n",
       "   REMOTE_APP_BYTES  APP_PACKETS  DNS_QUERY_TIMES  Type  \n",
       "0              1230           17              0.0     0  \n",
       "1                 0            0              0.0     0  \n",
       "2              4380           39              8.0     0  \n",
       "3              4586           61              4.0     0  \n",
       "4               894           11              0.0     0  \n",
       "\n",
       "[5 rows x 21 columns]"
      ]
     },
     "execution_count": 4,
     "metadata": {},
     "output_type": "execute_result"
    }
   ],
   "source": [
    "import pandas as pd\n",
    "import seaborn as sns\n",
    "import numpy as np\n",
    "from sklearn.preprocessing import normalize\n",
    "from sklearn.model_selection import train_test_split\n",
    "from sklearn.linear_model import LogisticRegression\n",
    "from sklearn.metrics import accuracy_score\n",
    "\n",
    "data = pd.read_csv(\"Train.csv\")\n",
    "data.head()"
   ]
  },
  {
   "cell_type": "code",
   "execution_count": 5,
   "id": "525c132a-ada6-4661-a69c-56b643fbe5a9",
   "metadata": {},
   "outputs": [],
   "source": [
    "from sklearn.preprocessing import OneHotEncoder\n",
    "def transform(data, column_name):\n",
    "    # so that the WHOIS_COUNTRY column is the same each run\n",
    "    data[column_name] = pd.read_csv(\"Train.csv\")[column_name]\n",
    "\n",
    "    data[column_name] = data[column_name].apply(lambda x: str(x).upper())\n",
    "    data[column_name] = data[column_name].str.replace('UNITED KINGDOM', 'UK', case= False) \n",
    "    data[column_name] = data[column_name].fillna(\"NONE\")\n",
    "    X= data[column_name]\n",
    "    index  = 0\n",
    "    array = []\n",
    "    for name in list(X.value_counts().index):\n",
    "        array.append([name, index])\n",
    "        index += 1\n",
    "\n",
    "    COUNTRY_enc = OneHotEncoder(drop='first').fit(array)\n",
    "\n",
    "    country_dictionary = {}\n",
    "    cats = COUNTRY_enc.categories_[0]\n",
    "    indices = COUNTRY_enc.categories_[1]\n",
    "    for cat, index in zip(cats, indices):\n",
    "        country_dictionary[cat] = index\n",
    "\n",
    "\n",
    "    countries = [[country, country_dictionary[country]] for country in list(data[column_name].fillna(\"NONE\"))]\n",
    "    data[column_name] = [x[1] for x in countries]\n"
   ]
  },
  {
   "cell_type": "markdown",
   "id": "25bfd868-8639-4982-b878-bdfad097e62d",
   "metadata": {},
   "source": [
    "## Transform the categorical features"
   ]
  },
  {
   "cell_type": "markdown",
   "id": "a077e9eb-b4b6-45fb-b9c0-8dbe0a5f641f",
   "metadata": {},
   "source": [
    "### Transform CHARSET"
   ]
  },
  {
   "cell_type": "code",
   "execution_count": 6,
   "id": "976cf72c-19be-4155-9428-1f8e86c1679a",
   "metadata": {},
   "outputs": [],
   "source": [
    "# so that the WHOIS_COUNTRY column is the same each run\n",
    "data[\"CHARSET\"] = pd.read_csv(\"Train.csv\")[\"CHARSET\"]\n",
    "transform(data, \"CHARSET\")"
   ]
  },
  {
   "cell_type": "markdown",
   "id": "fa3d6361-f57b-4d53-967c-4b2575bee014",
   "metadata": {},
   "source": [
    "### Transform URL"
   ]
  },
  {
   "cell_type": "code",
   "execution_count": 7,
   "id": "0aaa875f-ba32-4e93-95db-bbbb6ef68197",
   "metadata": {},
   "outputs": [],
   "source": [
    "# so that the WHOIS_COUNTRY column is the same each run\n",
    "data[\"URL\"] = pd.read_csv(\"Train.csv\")[\"URL\"]\n",
    "transform(data, \"URL\")"
   ]
  },
  {
   "cell_type": "markdown",
   "id": "4fb245bb-7fd3-474b-b283-d07c42065973",
   "metadata": {},
   "source": [
    "### Transform WHOIS_STATEPRO"
   ]
  },
  {
   "cell_type": "code",
   "execution_count": 8,
   "id": "8e4f84a5-ba2d-4a4c-9dcc-0141b58296d4",
   "metadata": {},
   "outputs": [],
   "source": [
    "# so that the WHOIS_STATEPRO column is the same each run\n",
    "data[\"WHOIS_STATEPRO\"] = pd.read_csv(\"Train.csv\")[\"WHOIS_STATEPRO\"]\n",
    "transform(data, \"WHOIS_STATEPRO\")"
   ]
  },
  {
   "cell_type": "markdown",
   "id": "08fb4be6-c442-4551-a1f9-d0d5599bf12f",
   "metadata": {},
   "source": [
    "### Transform SERVER"
   ]
  },
  {
   "cell_type": "code",
   "execution_count": 9,
   "id": "2907d275-0123-41f3-bf27-544e35243ce3",
   "metadata": {},
   "outputs": [],
   "source": [
    "# so that the WHOIS_COUNTRY column is the same each run\n",
    "data[\"SERVER\"] = pd.read_csv(\"Train.csv\")[\"SERVER\"]\n",
    "transform(data, \"SERVER\")\n",
    "#TODO need to convert float values to string"
   ]
  },
  {
   "cell_type": "markdown",
   "id": "9addf3b3-fed1-4e91-a6b6-3335001a1b55",
   "metadata": {},
   "source": [
    "### Transform WHOIS_COUNTRY"
   ]
  },
  {
   "cell_type": "code",
   "execution_count": 10,
   "id": "ddc38e97-4d0e-4e5c-8d02-a7cf3d1981eb",
   "metadata": {},
   "outputs": [],
   "source": [
    "# so that the WHOIS_COUNTRY column is the same each run\n",
    "data[\"WHOIS_COUNTRY\"] = pd.read_csv(\"Train.csv\")[\"WHOIS_COUNTRY\"]\n",
    "transform(data, \"WHOIS_COUNTRY\")"
   ]
  },
  {
   "cell_type": "markdown",
   "id": "e48166ba-3b4a-4cca-b8e2-6b1bcbaf476d",
   "metadata": {},
   "source": [
    "### Detect the features most correlated with type"
   ]
  },
  {
   "cell_type": "code",
   "execution_count": 11,
   "id": "a6ec1f0d-83ff-4dfb-9d84-eb028412a31f",
   "metadata": {},
   "outputs": [
    {
     "data": {
      "text/plain": [
       "URL                          0.544331\n",
       "URL_LENGTH                   0.150140\n",
       "NUMBER_SPECIAL_CHARACTERS    0.262379\n",
       "CHARSET                      0.028940\n",
       "SERVER                      -0.155668\n",
       "CONTENT_LENGTH              -0.098117\n",
       "WHOIS_COUNTRY               -0.223252\n",
       "WHOIS_STATEPRO               0.012171\n",
       "TCP_CONVERSATION_EXCHANGE   -0.048396\n",
       "DIST_REMOTE_TCP_PORT        -0.077496\n",
       "REMOTE_IPS                  -0.067438\n",
       "APP_BYTES                   -0.011302\n",
       "SOURCE_APP_PACKETS          -0.040544\n",
       "REMOTE_APP_PACKETS          -0.037299\n",
       "SOURCE_APP_BYTES            -0.058839\n",
       "REMOTE_APP_BYTES            -0.011090\n",
       "APP_PACKETS                 -0.040544\n",
       "DNS_QUERY_TIMES              0.062952\n",
       "Type                         1.000000\n",
       "Name: Type, dtype: float64"
      ]
     },
     "execution_count": 11,
     "metadata": {},
     "output_type": "execute_result"
    }
   ],
   "source": [
    "data_transformed = data.drop([\"WHOIS_REGDATE\", \"WHOIS_UPDATED_DATE\"], axis=1)\n",
    "#data_transformed = (data_transformed-data_transformed.mean())/data_transformed.std()\n",
    "data_transformed.corr()[\"Type\"]"
   ]
  },
  {
   "cell_type": "markdown",
   "id": "ee980637-c114-4077-97fa-2afc87f051a2",
   "metadata": {},
   "source": [
    "#### The most correlated ones are: \n",
    "- \"URL\"\n",
    "- \"URL_LENGTH\"\n",
    "- \"NUMBER_SPECIAL_CHARACTERS\"\n",
    "- \"WHOIS_COUNTRY\""
   ]
  },
  {
   "cell_type": "code",
   "execution_count": 12,
   "id": "0caa6b1d-62c3-43bd-ab5a-97eebc78d74f",
   "metadata": {},
   "outputs": [
    {
     "data": {
      "text/plain": [
       "<AxesSubplot:>"
      ]
     },
     "execution_count": 12,
     "metadata": {},
     "output_type": "execute_result"
    },
    {
     "data": {
      "image/png": "[encoded data removed]",
      "text/plain": [
       "<Figure size 432x288 with 2 Axes>"
      ]
     },
     "metadata": {
      "needs_background": "light"
     },
     "output_type": "display_data"
    }
   ],
   "source": [
    "sns.heatmap(data.corr())"
   ]
  },
  {
   "cell_type": "markdown",
   "id": "1fd2ca4a-759d-421b-bee2-48124f7cacaf",
   "metadata": {},
   "source": [
    "### Using PCA for data visualisation\n",
    "##### In order to be able to create 2 dimensional plots, we use the principal component analysis reduction technique on the top 4 correlated features"
   ]
  },
  {
   "cell_type": "code",
   "execution_count": 48,
   "id": "b5c8bb54-f7db-4195-8f7b-f25b44986159",
   "metadata": {},
   "outputs": [
    {
     "data": {
      "text/plain": [
       "Text(0.5, 1.0, 'PCA reduced data')"
      ]
     },
     "execution_count": 48,
     "metadata": {},
     "output_type": "execute_result"
    },
    {
     "data": {
      "image/png": "[encoded data removed]",
      "text/plain": [
       "<Figure size 432x288 with 1 Axes>"
      ]
     },
     "metadata": {
      "needs_background": "light"
     },
     "output_type": "display_data"
    }
   ],
   "source": [
    "from sklearn.decomposition import PCA\n",
    "from  seaborn import scatterplot\n",
    "\n",
    "pca = PCA(n_components=2)\n",
    "col=data[[\"URL\", \"URL_LENGTH\", \"NUMBER_SPECIAL_CHARACTERS\", \"WHOIS_COUNTRY\"]]\n",
    "#col = (col-col.mean())/col.std()\n",
    "\n",
    "sc= pca.fit_transform(col)\n",
    "plt= scatterplot(x=[x[0] for x in sc],y=[x[1]for x in sc],hue=data[\"Type\"])\n",
    "plt.set_title('PCA reduced data')"
   ]
  },
  {
   "cell_type": "markdown",
   "id": "aa2ab385-ef21-463c-a3c5-899d4f0ab9ad",
   "metadata": {},
   "source": [
    "### Detect NAs in the numerical features"
   ]
  },
  {
   "cell_type": "code",
   "execution_count": 14,
   "id": "bff59a08-0c7f-46ce-9d56-6625c3324f3b",
   "metadata": {},
   "outputs": [
    {
     "name": "stdout",
     "output_type": "stream",
     "text": [
      "NAs present in NUMBER_SPECIAL_CHARACTERS: False\n",
      "NAs present in URL_LENGTH: False\n"
     ]
    }
   ],
   "source": [
    "print(\"NAs present in NUMBER_SPECIAL_CHARACTERS:\", any(data[\"NUMBER_SPECIAL_CHARACTERS\"].isna()))\n",
    "print(\"NAs present in URL_LENGTH:\", any(data[\"URL_LENGTH\"].isna()))"
   ]
  },
  {
   "cell_type": "code",
   "execution_count": 138,
   "id": "67b3242b-e2e0-4b8b-a436-421ce96154dc",
   "metadata": {},
   "outputs": [
    {
     "name": "stdout",
     "output_type": "stream",
     "text": [
      "The accuracy on the test set is 1.0\n"
     ]
    }
   ],
   "source": [
    "# take the highest correlated rows\n",
    "X = data_transformed[[\"URL\", \"URL_LENGTH\", \"NUMBER_SPECIAL_CHARACTERS\", \"WHOIS_COUNTRY\", \"Type\"]]\n",
    "\n",
    "# take all rows with class 1\n",
    "class_1 = X[X[\"Type\"] == 1]\n",
    "\n",
    "# get amount of class 1s\n",
    "n_class_1 = len(class_1)\n",
    "\n",
    "# randomly sample rows with Type 0 n_class_1 times\n",
    "class_0 = X[X[\"Type\"] == 0].sample(n=n_class_1, random_state=1)\n",
    "\n",
    "# join the two into one final dataframe \n",
    "X = pd.concat([class_1, class_0])\n",
    "\n",
    "# extract the class and features\n",
    "Y = X[\"Type\"]\n",
    "X = X.drop([\"Type\"], axis=1)\n",
    "\n",
    "# split into train and test set\n",
    "X_train, X_test, y_train, y_test = train_test_split(X, Y, test_size=0.3, random_state=42)\n",
    "\n",
    "LR = LogisticRegression().fit(X_train, y_train)\n",
    "print(\"The accuracy on the test set is\", accuracy_score(y_test, LR.predict(X_test)))"
   ]
  },
  {
   "cell_type": "markdown",
   "id": "1dd18c82-a35e-4bdc-a6b8-84e16220f567",
   "metadata": {},
   "source": [
    "### Display the sampled data"
   ]
  },
  {
   "cell_type": "code",
   "execution_count": 58,
   "id": "64ec9f8f-3905-4022-aa20-9a0e585222d9",
   "metadata": {},
   "outputs": [
    {
     "data": {
      "text/plain": [
       "Text(0.5, 1.0, 'PCA reduced data')"
      ]
     },
     "execution_count": 58,
     "metadata": {},
     "output_type": "execute_result"
    },
    {
     "data": {
      "image/png": "[encoded data removed]",
      "text/plain": [
       "<Figure size 432x288 with 1 Axes>"
      ]
     },
     "metadata": {
      "needs_background": "light"
     },
     "output_type": "display_data"
    }
   ],
   "source": [
    "pca = PCA(n_components=2)\n",
    "#col = (col-col.mean())/col.std()\n",
    "\n",
    "sc = pca.fit_transform(X)\n",
    "plt = scatterplot(x=[x[0] for x in sc],y=[x[1]for x in sc],hue=Y)\n",
    "plt.set_title('PCA reduced data')"
   ]
  },
  {
   "cell_type": "markdown",
   "id": "99051861-f85e-42e3-8903-97ed6a77903f",
   "metadata": {},
   "source": [
    "### The accuracy achieved is 100%\n",
    "##### Just using a Logistic regression model trained on the top 4 highest correlated features and equally distributed classes. We further try to implement an oversampling method called SMOTE to compare the results"
   ]
  },
  {
   "cell_type": "markdown",
   "id": "4dbf3e5a-067d-4de0-b1b0-c0d2d8d11c81",
   "metadata": {},
   "source": [
    "### The data has a class imbalance problem"
   ]
  },
  {
   "cell_type": "code",
   "execution_count": 5,
   "id": "532b32ad-90a1-4622-9359-ad86b5ba6cc2",
   "metadata": {},
   "outputs": [
    {
     "name": "stdout",
     "output_type": "stream",
     "text": [
      "Number of rows with class 0 is 1272\n",
      "Number of rows with class 1 is 159\n"
     ]
    }
   ],
   "source": [
    "print(\"Number of rows with class 0 is\", len(data[data[\"Type\"] == 0]))\n",
    "print(\"Number of rows with class 1 is\", len(data[data[\"Type\"] == 1]))"
   ]
  },
  {
   "cell_type": "markdown",
   "id": "b95c5d3c-c765-45af-88ba-bb5cf89bf8f7",
   "metadata": {},
   "source": [
    "### Sample the same number of examples from class 1 and 0"
   ]
  },
  {
   "cell_type": "code",
   "execution_count": 137,
   "id": "73936ab7-fced-41a7-8b0c-e5ec2a0fe6ba",
   "metadata": {},
   "outputs": [
    {
     "ename": "KeyError",
     "evalue": "'Type'",
     "output_type": "error",
     "traceback": [
      "\u001b[0;31m---------------------------------------------------------------------------\u001b[0m",
      "\u001b[0;31mKeyError\u001b[0m                                  Traceback (most recent call last)",
      "\u001b[0;32m~/anaconda3/envs/LTR_annotator/lib/python3.9/site-packages/pandas/core/indexes/base.py\u001b[0m in \u001b[0;36mget_loc\u001b[0;34m(self, key, method, tolerance)\u001b[0m\n\u001b[1;32m   3079\u001b[0m             \u001b[0;32mtry\u001b[0m\u001b[0;34m:\u001b[0m\u001b[0;34m\u001b[0m\u001b[0;34m\u001b[0m\u001b[0m\n\u001b[0;32m-> 3080\u001b[0;31m                 \u001b[0;32mreturn\u001b[0m \u001b[0mself\u001b[0m\u001b[0;34m.\u001b[0m\u001b[0m_engine\u001b[0m\u001b[0;34m.\u001b[0m\u001b[0mget_loc\u001b[0m\u001b[0;34m(\u001b[0m\u001b[0mcasted_key\u001b[0m\u001b[0;34m)\u001b[0m\u001b[0;34m\u001b[0m\u001b[0;34m\u001b[0m\u001b[0m\n\u001b[0m\u001b[1;32m   3081\u001b[0m             \u001b[0;32mexcept\u001b[0m \u001b[0mKeyError\u001b[0m \u001b[0;32mas\u001b[0m \u001b[0merr\u001b[0m\u001b[0;34m:\u001b[0m\u001b[0;34m\u001b[0m\u001b[0;34m\u001b[0m\u001b[0m\n",
      "\u001b[0;32mpandas/_libs/index.pyx\u001b[0m in \u001b[0;36mpandas._libs.index.IndexEngine.get_loc\u001b[0;34m()\u001b[0m\n",
      "\u001b[0;32mpandas/_libs/index.pyx\u001b[0m in \u001b[0;36mpandas._libs.index.IndexEngine.get_loc\u001b[0;34m()\u001b[0m\n",
      "\u001b[0;32mpandas/_libs/hashtable_class_helper.pxi\u001b[0m in \u001b[0;36mpandas._libs.hashtable.PyObjectHashTable.get_item\u001b[0;34m()\u001b[0m\n",
      "\u001b[0;32mpandas/_libs/hashtable_class_helper.pxi\u001b[0m in \u001b[0;36mpandas._libs.hashtable.PyObjectHashTable.get_item\u001b[0;34m()\u001b[0m\n",
      "\u001b[0;31mKeyError\u001b[0m: 'Type'",
      "\nThe above exception was the direct cause of the following exception:\n",
      "\u001b[0;31mKeyError\u001b[0m                                  Traceback (most recent call last)",
      "\u001b[0;32m<ipython-input-137-02553689129a>\u001b[0m in \u001b[0;36m<module>\u001b[0;34m\u001b[0m\n\u001b[1;32m      1\u001b[0m \u001b[0;31m# take all rows with class 1\u001b[0m\u001b[0;34m\u001b[0m\u001b[0;34m\u001b[0m\u001b[0;34m\u001b[0m\u001b[0m\n\u001b[0;32m----> 2\u001b[0;31m \u001b[0mclass_1\u001b[0m \u001b[0;34m=\u001b[0m \u001b[0mdata\u001b[0m\u001b[0;34m[\u001b[0m\u001b[0mdata\u001b[0m\u001b[0;34m[\u001b[0m\u001b[0;34m\"Type\"\u001b[0m\u001b[0;34m]\u001b[0m \u001b[0;34m==\u001b[0m \u001b[0;36m1\u001b[0m\u001b[0;34m]\u001b[0m\u001b[0;34m\u001b[0m\u001b[0;34m\u001b[0m\u001b[0m\n\u001b[0m\u001b[1;32m      3\u001b[0m \u001b[0;34m\u001b[0m\u001b[0m\n\u001b[1;32m      4\u001b[0m \u001b[0;31m# get amount of class 1s\u001b[0m\u001b[0;34m\u001b[0m\u001b[0;34m\u001b[0m\u001b[0;34m\u001b[0m\u001b[0m\n\u001b[1;32m      5\u001b[0m \u001b[0mn_class_1\u001b[0m \u001b[0;34m=\u001b[0m \u001b[0mlen\u001b[0m\u001b[0;34m(\u001b[0m\u001b[0mclass_1\u001b[0m\u001b[0;34m)\u001b[0m\u001b[0;34m\u001b[0m\u001b[0;34m\u001b[0m\u001b[0m\n",
      "\u001b[0;32m~/anaconda3/envs/LTR_annotator/lib/python3.9/site-packages/pandas/core/frame.py\u001b[0m in \u001b[0;36m__getitem__\u001b[0;34m(self, key)\u001b[0m\n\u001b[1;32m   3022\u001b[0m             \u001b[0;32mif\u001b[0m \u001b[0mself\u001b[0m\u001b[0;34m.\u001b[0m\u001b[0mcolumns\u001b[0m\u001b[0;34m.\u001b[0m\u001b[0mnlevels\u001b[0m \u001b[0;34m>\u001b[0m \u001b[0;36m1\u001b[0m\u001b[0;34m:\u001b[0m\u001b[0;34m\u001b[0m\u001b[0;34m\u001b[0m\u001b[0m\n\u001b[1;32m   3023\u001b[0m                 \u001b[0;32mreturn\u001b[0m \u001b[0mself\u001b[0m\u001b[0;34m.\u001b[0m\u001b[0m_getitem_multilevel\u001b[0m\u001b[0;34m(\u001b[0m\u001b[0mkey\u001b[0m\u001b[0;34m)\u001b[0m\u001b[0;34m\u001b[0m\u001b[0;34m\u001b[0m\u001b[0m\n\u001b[0;32m-> 3024\u001b[0;31m             \u001b[0mindexer\u001b[0m \u001b[0;34m=\u001b[0m \u001b[0mself\u001b[0m\u001b[0;34m.\u001b[0m\u001b[0mcolumns\u001b[0m\u001b[0;34m.\u001b[0m\u001b[0mget_loc\u001b[0m\u001b[0;34m(\u001b[0m\u001b[0mkey\u001b[0m\u001b[0;34m)\u001b[0m\u001b[0;34m\u001b[0m\u001b[0;34m\u001b[0m\u001b[0m\n\u001b[0m\u001b[1;32m   3025\u001b[0m             \u001b[0;32mif\u001b[0m \u001b[0mis_integer\u001b[0m\u001b[0;34m(\u001b[0m\u001b[0mindexer\u001b[0m\u001b[0;34m)\u001b[0m\u001b[0;34m:\u001b[0m\u001b[0;34m\u001b[0m\u001b[0;34m\u001b[0m\u001b[0m\n\u001b[1;32m   3026\u001b[0m                 \u001b[0mindexer\u001b[0m \u001b[0;34m=\u001b[0m \u001b[0;34m[\u001b[0m\u001b[0mindexer\u001b[0m\u001b[0;34m]\u001b[0m\u001b[0;34m\u001b[0m\u001b[0;34m\u001b[0m\u001b[0m\n",
      "\u001b[0;32m~/anaconda3/envs/LTR_annotator/lib/python3.9/site-packages/pandas/core/indexes/base.py\u001b[0m in \u001b[0;36mget_loc\u001b[0;34m(self, key, method, tolerance)\u001b[0m\n\u001b[1;32m   3080\u001b[0m                 \u001b[0;32mreturn\u001b[0m \u001b[0mself\u001b[0m\u001b[0;34m.\u001b[0m\u001b[0m_engine\u001b[0m\u001b[0;34m.\u001b[0m\u001b[0mget_loc\u001b[0m\u001b[0;34m(\u001b[0m\u001b[0mcasted_key\u001b[0m\u001b[0;34m)\u001b[0m\u001b[0;34m\u001b[0m\u001b[0;34m\u001b[0m\u001b[0m\n\u001b[1;32m   3081\u001b[0m             \u001b[0;32mexcept\u001b[0m \u001b[0mKeyError\u001b[0m \u001b[0;32mas\u001b[0m \u001b[0merr\u001b[0m\u001b[0;34m:\u001b[0m\u001b[0;34m\u001b[0m\u001b[0;34m\u001b[0m\u001b[0m\n\u001b[0;32m-> 3082\u001b[0;31m                 \u001b[0;32mraise\u001b[0m \u001b[0mKeyError\u001b[0m\u001b[0;34m(\u001b[0m\u001b[0mkey\u001b[0m\u001b[0;34m)\u001b[0m \u001b[0;32mfrom\u001b[0m \u001b[0merr\u001b[0m\u001b[0;34m\u001b[0m\u001b[0;34m\u001b[0m\u001b[0m\n\u001b[0m\u001b[1;32m   3083\u001b[0m \u001b[0;34m\u001b[0m\u001b[0m\n\u001b[1;32m   3084\u001b[0m         \u001b[0;32mif\u001b[0m \u001b[0mtolerance\u001b[0m \u001b[0;32mis\u001b[0m \u001b[0;32mnot\u001b[0m \u001b[0;32mNone\u001b[0m\u001b[0;34m:\u001b[0m\u001b[0;34m\u001b[0m\u001b[0;34m\u001b[0m\u001b[0m\n",
      "\u001b[0;31mKeyError\u001b[0m: 'Type'"
     ]
    }
   ],
   "source": [
    "# take all rows with class 1\n",
    "class_1 = data[data[\"Type\"] == 1]\n",
    "\n",
    "# get amount of class 1s\n",
    "n_class_1 = len(class_1)\n",
    "\n",
    "# randomly sample rows with Type 0 n_class_1 times\n",
    "class_0 = data[data[\"Type\"] == 0].sample(n=n_class_1*5, random_state=1)\n",
    "\n",
    "# join the two into one final dataframe \n",
    "X = pd.concat([class_1, class_0])[[\"URL\", \"URL_LENGTH\", \"NUMBER_SPECIAL_CHARACTERS\", \"WHOIS_COUNTRY\", \"Type\"]]\n",
    "\n",
    "# extract the class and features\n",
    "Y = X[\"Type\"]\n",
    "X = X.drop([\"Type\"], axis=1)\n",
    "\n",
    "# split into train and test set\n",
    "X_train, X_test, y_train, y_test = train_test_split(X, Y, test_size=0.3, random_state=42)"
   ]
  },
  {
   "cell_type": "markdown",
   "id": "91a08275-371a-48ae-a289-a9d7b5f81242",
   "metadata": {},
   "source": [
    "### To fix the class imbalance problem we implemented SMOTE"
   ]
  },
  {
   "cell_type": "code",
   "execution_count": 88,
   "id": "103d8627-482c-4a8d-8a32-a8b6dc401bf9",
   "metadata": {},
   "outputs": [
    {
     "data": {
      "text/plain": [
       "Text(0.5, 1.0, 'SMOTE oversampled examples')"
      ]
     },
     "execution_count": 88,
     "metadata": {},
     "output_type": "execute_result"
    },
    {
     "data": {
      "image/png": "[encoded data removed]",
      "text/plain": [
       "<Figure size 432x288 with 1 Axes>"
      ]
     },
     "metadata": {
      "needs_background": "light"
     },
     "output_type": "display_data"
    }
   ],
   "source": [
    "from imblearn.over_sampling import SMOTE\n",
    "from matplotlib import pyplot\n",
    "from numpy import where\n",
    "from collections import Counter\n",
    "\n",
    "# convert the data into arrays for SMOTE\n",
    "X = X_train\n",
    "y_train = y_train.to_numpy() \n",
    "y = y_train\n",
    "\n",
    "# creates the SMOTE objects, fits and oversamples them\n",
    "oversample = SMOTE(random_state=42)\n",
    "X, y = oversample.fit_resample(X, y)\n",
    "\n",
    "pca = PCA(n_components=2)\n",
    "#col = (col-col.mean())/col.std()\n",
    "sc= pca.fit_transform(X)\n",
    "plt= scatterplot(x=[x[0] for x in sc],y=[x[1]for x in sc],hue=y)\n",
    "plt.set_title('SMOTE oversampled examples')"
   ]
  },
  {
   "cell_type": "markdown",
   "id": "1b4eb63e-ad91-449f-85ad-5fe460c3279b",
   "metadata": {},
   "source": [
    "#### The Logistic regression in this case throws a failure to converge warning, we use a support vector machine and random forest classifier instead"
   ]
  },
  {
   "cell_type": "code",
   "execution_count": 40,
   "id": "4187f129-ce26-43eb-ae5b-32d56a04f2db",
   "metadata": {},
   "outputs": [],
   "source": [
    "from sklearn.ensemble import RandomForestClassifier\n",
    "from sklearn.svm import LinearSVC\n",
    "from sklearn.svm import SVC as SupportVectorMachine\n",
    "# Splits into train and test set and trains two models\n",
    "X_train, X_validation, y_train, y_validation = train_test_split(X, y, test_size=0.3, random_state=42)\n",
    "\n",
    "RFC = RandomForestClassifier().fit(X_train, y_train)\n",
    "SVC = SupportVectorMachine().fit(X_train, y_train)"
   ]
  },
  {
   "cell_type": "code",
   "execution_count": 121,
   "id": "26e56699-3b62-4a3a-bc80-f52b256c4d4d",
   "metadata": {},
   "outputs": [
    {
     "name": "stdout",
     "output_type": "stream",
     "text": [
      "Accuracy on the validation set for RFC is 0.9655172413793104\n",
      "Accuracy on the validation set for SVC is 1.0\n"
     ]
    }
   ],
   "source": [
    "# Test the accuracy on the SMOTE validation set\n",
    "print(\"Accuracy on the validation set for RFC is\", accuracy_score(y_validation, SVC.predict(X_validation)))\n",
    "print(\"Accuracy on the validation set for SVC is\",accuracy_score(y_validation, RFC.predict(X_validation)))"
   ]
  },
  {
   "cell_type": "code",
   "execution_count": 122,
   "id": "2e72a238-cb54-4d7a-a3c9-bbde541c402f",
   "metadata": {
    "tags": []
   },
   "outputs": [
    {
     "name": "stdout",
     "output_type": "stream",
     "text": [
      "Accuracy on the test set for RFC is 1.0\n",
      "Accuracy on the test set for RFC is 0.9791666666666666\n"
     ]
    }
   ],
   "source": [
    "# test the accuracy on the non-SMOTE test set\n",
    "print(\"Accuracy on the test set for RFC is\",accuracy_score(y_test, RFC.predict(X_test)))\n",
    "print(\"Accuracy on the test set for RFC is\",accuracy_score(y_test, SVC.predict(X_test)))"
   ]
  },
  {
   "cell_type": "markdown",
   "id": "bd4e8ca6-16b1-4923-9065-7d7f58a2188c",
   "metadata": {},
   "source": [
    "### Conclusion\n",
    "##### Using highly correlated features, and a subset of the training set of size ~300 we obtain 100% accuracy on predictions \n",
    "##### Further testing out the SMOTE oversampling method and training using a Random Forest Classifier and Support Vector Machine, we obtain the accuracy of 99% and 95% respectively"
   ]
  },
  {
   "cell_type": "markdown",
   "id": "e5e461ff-1acc-4b3b-bada-266802484875",
   "metadata": {},
   "source": [
    "### Predict the test set"
   ]
  },
  {
   "cell_type": "code",
   "execution_count": 143,
   "id": "42dfdf55-c051-4483-ba99-98caab909cb9",
   "metadata": {},
   "outputs": [
    {
     "data": {
      "text/html": [
       "<div>\n",
       "<style scoped>\n",
       "    .dataframe tbody tr th:only-of-type {\n",
       "        vertical-align: middle;\n",
       "    }\n",
       "\n",
       "    .dataframe tbody tr th {\n",
       "        vertical-align: top;\n",
       "    }\n",
       "\n",
       "    .dataframe thead th {\n",
       "        text-align: right;\n",
       "    }\n",
       "</style>\n",
       "<table border=\"1\" class=\"dataframe\">\n",
       "  <thead>\n",
       "    <tr style=\"text-align: right;\">\n",
       "      <th></th>\n",
       "      <th>URL</th>\n",
       "      <th>URL_LENGTH</th>\n",
       "      <th>NUMBER_SPECIAL_CHARACTERS</th>\n",
       "      <th>CHARSET</th>\n",
       "      <th>SERVER</th>\n",
       "      <th>CONTENT_LENGTH</th>\n",
       "      <th>WHOIS_COUNTRY</th>\n",
       "      <th>WHOIS_STATEPRO</th>\n",
       "      <th>WHOIS_REGDATE</th>\n",
       "      <th>WHOIS_UPDATED_DATE</th>\n",
       "      <th>TCP_CONVERSATION_EXCHANGE</th>\n",
       "      <th>DIST_REMOTE_TCP_PORT</th>\n",
       "      <th>REMOTE_IPS</th>\n",
       "      <th>APP_BYTES</th>\n",
       "      <th>SOURCE_APP_PACKETS</th>\n",
       "      <th>REMOTE_APP_PACKETS</th>\n",
       "      <th>SOURCE_APP_BYTES</th>\n",
       "      <th>REMOTE_APP_BYTES</th>\n",
       "      <th>APP_PACKETS</th>\n",
       "      <th>DNS_QUERY_TIMES</th>\n",
       "    </tr>\n",
       "  </thead>\n",
       "  <tbody>\n",
       "    <tr>\n",
       "      <th>0</th>\n",
       "      <td>M4_22</td>\n",
       "      <td>100</td>\n",
       "      <td>20</td>\n",
       "      <td>UTF-8</td>\n",
       "      <td>Apache</td>\n",
       "      <td>NaN</td>\n",
       "      <td>ES</td>\n",
       "      <td>Barcelona</td>\n",
       "      <td>17/09/2008 0:00</td>\n",
       "      <td>2/09/2016 0:00</td>\n",
       "      <td>0</td>\n",
       "      <td>0</td>\n",
       "      <td>0</td>\n",
       "      <td>0</td>\n",
       "      <td>0</td>\n",
       "      <td>3</td>\n",
       "      <td>186</td>\n",
       "      <td>0</td>\n",
       "      <td>0</td>\n",
       "      <td>0.0</td>\n",
       "    </tr>\n",
       "    <tr>\n",
       "      <th>1</th>\n",
       "      <td>B0_402</td>\n",
       "      <td>50</td>\n",
       "      <td>11</td>\n",
       "      <td>ISO-8859-1</td>\n",
       "      <td>None</td>\n",
       "      <td>1819.0</td>\n",
       "      <td>US</td>\n",
       "      <td>CA</td>\n",
       "      <td>2/11/2002 0:00</td>\n",
       "      <td>2/02/2017 0:00</td>\n",
       "      <td>33</td>\n",
       "      <td>27</td>\n",
       "      <td>5</td>\n",
       "      <td>5203</td>\n",
       "      <td>41</td>\n",
       "      <td>44</td>\n",
       "      <td>13097</td>\n",
       "      <td>5803</td>\n",
       "      <td>41</td>\n",
       "      <td>8.0</td>\n",
       "    </tr>\n",
       "    <tr>\n",
       "      <th>2</th>\n",
       "      <td>B0_438</td>\n",
       "      <td>28</td>\n",
       "      <td>7</td>\n",
       "      <td>UTF-8</td>\n",
       "      <td>GSE</td>\n",
       "      <td>6666.0</td>\n",
       "      <td>US</td>\n",
       "      <td>CA</td>\n",
       "      <td>31/07/2000 0:00</td>\n",
       "      <td>29/06/2016 0:00</td>\n",
       "      <td>66</td>\n",
       "      <td>5</td>\n",
       "      <td>11</td>\n",
       "      <td>6311</td>\n",
       "      <td>70</td>\n",
       "      <td>64</td>\n",
       "      <td>63634</td>\n",
       "      <td>6633</td>\n",
       "      <td>70</td>\n",
       "      <td>4.0</td>\n",
       "    </tr>\n",
       "    <tr>\n",
       "      <th>3</th>\n",
       "      <td>B0_759</td>\n",
       "      <td>43</td>\n",
       "      <td>7</td>\n",
       "      <td>UTF-8</td>\n",
       "      <td>GSE</td>\n",
       "      <td>20592.0</td>\n",
       "      <td>US</td>\n",
       "      <td>CA</td>\n",
       "      <td>31/07/2000 0:00</td>\n",
       "      <td>29/06/2016 0:00</td>\n",
       "      <td>64</td>\n",
       "      <td>5</td>\n",
       "      <td>13</td>\n",
       "      <td>6081</td>\n",
       "      <td>69</td>\n",
       "      <td>71</td>\n",
       "      <td>63457</td>\n",
       "      <td>6463</td>\n",
       "      <td>69</td>\n",
       "      <td>4.0</td>\n",
       "    </tr>\n",
       "    <tr>\n",
       "      <th>4</th>\n",
       "      <td>B0_280</td>\n",
       "      <td>47</td>\n",
       "      <td>11</td>\n",
       "      <td>utf-8</td>\n",
       "      <td>Apache/2.2.15 (Red Hat)</td>\n",
       "      <td>NaN</td>\n",
       "      <td>None</td>\n",
       "      <td>None</td>\n",
       "      <td>None</td>\n",
       "      <td>None</td>\n",
       "      <td>15</td>\n",
       "      <td>1</td>\n",
       "      <td>7</td>\n",
       "      <td>1552</td>\n",
       "      <td>21</td>\n",
       "      <td>20</td>\n",
       "      <td>2790</td>\n",
       "      <td>2000</td>\n",
       "      <td>21</td>\n",
       "      <td>6.0</td>\n",
       "    </tr>\n",
       "    <tr>\n",
       "      <th>...</th>\n",
       "      <td>...</td>\n",
       "      <td>...</td>\n",
       "      <td>...</td>\n",
       "      <td>...</td>\n",
       "      <td>...</td>\n",
       "      <td>...</td>\n",
       "      <td>...</td>\n",
       "      <td>...</td>\n",
       "      <td>...</td>\n",
       "      <td>...</td>\n",
       "      <td>...</td>\n",
       "      <td>...</td>\n",
       "      <td>...</td>\n",
       "      <td>...</td>\n",
       "      <td>...</td>\n",
       "      <td>...</td>\n",
       "      <td>...</td>\n",
       "      <td>...</td>\n",
       "      <td>...</td>\n",
       "      <td>...</td>\n",
       "    </tr>\n",
       "    <tr>\n",
       "      <th>345</th>\n",
       "      <td>B0_583</td>\n",
       "      <td>141</td>\n",
       "      <td>24</td>\n",
       "      <td>UTF-8</td>\n",
       "      <td>ATS</td>\n",
       "      <td>NaN</td>\n",
       "      <td>US</td>\n",
       "      <td>CA</td>\n",
       "      <td>18/01/1995 0:00</td>\n",
       "      <td>26/08/2015 0:00</td>\n",
       "      <td>31</td>\n",
       "      <td>7</td>\n",
       "      <td>6</td>\n",
       "      <td>3925</td>\n",
       "      <td>39</td>\n",
       "      <td>35</td>\n",
       "      <td>21489</td>\n",
       "      <td>4535</td>\n",
       "      <td>39</td>\n",
       "      <td>8.0</td>\n",
       "    </tr>\n",
       "    <tr>\n",
       "      <th>346</th>\n",
       "      <td>M0_99</td>\n",
       "      <td>48</td>\n",
       "      <td>14</td>\n",
       "      <td>UTF-8</td>\n",
       "      <td>Apache</td>\n",
       "      <td>NaN</td>\n",
       "      <td>CZ</td>\n",
       "      <td>PRAHA</td>\n",
       "      <td>7/10/2006 0:00</td>\n",
       "      <td>7/03/2017 0:00</td>\n",
       "      <td>48</td>\n",
       "      <td>0</td>\n",
       "      <td>1</td>\n",
       "      <td>3450</td>\n",
       "      <td>50</td>\n",
       "      <td>51</td>\n",
       "      <td>66124</td>\n",
       "      <td>3602</td>\n",
       "      <td>50</td>\n",
       "      <td>2.0</td>\n",
       "    </tr>\n",
       "    <tr>\n",
       "      <th>347</th>\n",
       "      <td>B0_2224</td>\n",
       "      <td>25</td>\n",
       "      <td>6</td>\n",
       "      <td>UTF-8</td>\n",
       "      <td>LiteSpeed</td>\n",
       "      <td>NaN</td>\n",
       "      <td>None</td>\n",
       "      <td>None</td>\n",
       "      <td>27/01/2005 0:00</td>\n",
       "      <td>15/11/2013 0:00</td>\n",
       "      <td>6</td>\n",
       "      <td>5</td>\n",
       "      <td>2</td>\n",
       "      <td>564</td>\n",
       "      <td>6</td>\n",
       "      <td>7</td>\n",
       "      <td>442</td>\n",
       "      <td>564</td>\n",
       "      <td>6</td>\n",
       "      <td>0.0</td>\n",
       "    </tr>\n",
       "    <tr>\n",
       "      <th>348</th>\n",
       "      <td>B0_494</td>\n",
       "      <td>88</td>\n",
       "      <td>15</td>\n",
       "      <td>UTF-8</td>\n",
       "      <td>Apache</td>\n",
       "      <td>NaN</td>\n",
       "      <td>None</td>\n",
       "      <td>None</td>\n",
       "      <td>25/03/2010 0:00</td>\n",
       "      <td>25/03/2017 0:00</td>\n",
       "      <td>11</td>\n",
       "      <td>3</td>\n",
       "      <td>4</td>\n",
       "      <td>1346</td>\n",
       "      <td>15</td>\n",
       "      <td>16</td>\n",
       "      <td>1725</td>\n",
       "      <td>1670</td>\n",
       "      <td>15</td>\n",
       "      <td>4.0</td>\n",
       "    </tr>\n",
       "    <tr>\n",
       "      <th>349</th>\n",
       "      <td>B0_926</td>\n",
       "      <td>47</td>\n",
       "      <td>9</td>\n",
       "      <td>ISO-8859-1</td>\n",
       "      <td>None</td>\n",
       "      <td>675.0</td>\n",
       "      <td>US</td>\n",
       "      <td>California</td>\n",
       "      <td>28/11/1999 0:00</td>\n",
       "      <td>9/09/2013 0:00</td>\n",
       "      <td>0</td>\n",
       "      <td>0</td>\n",
       "      <td>0</td>\n",
       "      <td>0</td>\n",
       "      <td>0</td>\n",
       "      <td>0</td>\n",
       "      <td>0</td>\n",
       "      <td>0</td>\n",
       "      <td>0</td>\n",
       "      <td>0.0</td>\n",
       "    </tr>\n",
       "  </tbody>\n",
       "</table>\n",
       "<p>350 rows × 20 columns</p>\n",
       "</div>"
      ],
      "text/plain": [
       "         URL  URL_LENGTH  NUMBER_SPECIAL_CHARACTERS     CHARSET  \\\n",
       "0      M4_22         100                         20       UTF-8   \n",
       "1     B0_402          50                         11  ISO-8859-1   \n",
       "2     B0_438          28                          7       UTF-8   \n",
       "3     B0_759          43                          7       UTF-8   \n",
       "4     B0_280          47                         11       utf-8   \n",
       "..       ...         ...                        ...         ...   \n",
       "345   B0_583         141                         24       UTF-8   \n",
       "346    M0_99          48                         14       UTF-8   \n",
       "347  B0_2224          25                          6       UTF-8   \n",
       "348   B0_494          88                         15       UTF-8   \n",
       "349   B0_926          47                          9  ISO-8859-1   \n",
       "\n",
       "                      SERVER  CONTENT_LENGTH WHOIS_COUNTRY WHOIS_STATEPRO  \\\n",
       "0                     Apache             NaN            ES      Barcelona   \n",
       "1                       None          1819.0            US             CA   \n",
       "2                        GSE          6666.0            US             CA   \n",
       "3                        GSE         20592.0            US             CA   \n",
       "4    Apache/2.2.15 (Red Hat)             NaN          None           None   \n",
       "..                       ...             ...           ...            ...   \n",
       "345                      ATS             NaN            US             CA   \n",
       "346                   Apache             NaN            CZ          PRAHA   \n",
       "347                LiteSpeed             NaN          None           None   \n",
       "348                   Apache             NaN          None           None   \n",
       "349                     None           675.0            US     California   \n",
       "\n",
       "       WHOIS_REGDATE WHOIS_UPDATED_DATE  TCP_CONVERSATION_EXCHANGE  \\\n",
       "0    17/09/2008 0:00     2/09/2016 0:00                          0   \n",
       "1     2/11/2002 0:00     2/02/2017 0:00                         33   \n",
       "2    31/07/2000 0:00    29/06/2016 0:00                         66   \n",
       "3    31/07/2000 0:00    29/06/2016 0:00                         64   \n",
       "4               None               None                         15   \n",
       "..               ...                ...                        ...   \n",
       "345  18/01/1995 0:00    26/08/2015 0:00                         31   \n",
       "346   7/10/2006 0:00     7/03/2017 0:00                         48   \n",
       "347  27/01/2005 0:00    15/11/2013 0:00                          6   \n",
       "348  25/03/2010 0:00    25/03/2017 0:00                         11   \n",
       "349  28/11/1999 0:00     9/09/2013 0:00                          0   \n",
       "\n",
       "     DIST_REMOTE_TCP_PORT  REMOTE_IPS  APP_BYTES  SOURCE_APP_PACKETS  \\\n",
       "0                       0           0          0                   0   \n",
       "1                      27           5       5203                  41   \n",
       "2                       5          11       6311                  70   \n",
       "3                       5          13       6081                  69   \n",
       "4                       1           7       1552                  21   \n",
       "..                    ...         ...        ...                 ...   \n",
       "345                     7           6       3925                  39   \n",
       "346                     0           1       3450                  50   \n",
       "347                     5           2        564                   6   \n",
       "348                     3           4       1346                  15   \n",
       "349                     0           0          0                   0   \n",
       "\n",
       "     REMOTE_APP_PACKETS  SOURCE_APP_BYTES  REMOTE_APP_BYTES  APP_PACKETS  \\\n",
       "0                     3               186                 0            0   \n",
       "1                    44             13097              5803           41   \n",
       "2                    64             63634              6633           70   \n",
       "3                    71             63457              6463           69   \n",
       "4                    20              2790              2000           21   \n",
       "..                  ...               ...               ...          ...   \n",
       "345                  35             21489              4535           39   \n",
       "346                  51             66124              3602           50   \n",
       "347                   7               442               564            6   \n",
       "348                  16              1725              1670           15   \n",
       "349                   0                 0                 0            0   \n",
       "\n",
       "     DNS_QUERY_TIMES  \n",
       "0                0.0  \n",
       "1                8.0  \n",
       "2                4.0  \n",
       "3                4.0  \n",
       "4                6.0  \n",
       "..               ...  \n",
       "345              8.0  \n",
       "346              2.0  \n",
       "347              0.0  \n",
       "348              4.0  \n",
       "349              0.0  \n",
       "\n",
       "[350 rows x 20 columns]"
      ]
     },
     "execution_count": 143,
     "metadata": {},
     "output_type": "execute_result"
    }
   ],
   "source": [
    "data = pd.read_csv(\"Test.csv\")\n",
    "data"
   ]
  },
  {
   "cell_type": "markdown",
   "id": "d503f482-4c43-4f69-9edf-ee8aa04b4549",
   "metadata": {},
   "source": [
    "### Transform the important categorical features"
   ]
  },
  {
   "cell_type": "code",
   "execution_count": 144,
   "id": "b0732dd7-cfd2-4ada-a4f4-cb5e5a9610c9",
   "metadata": {},
   "outputs": [],
   "source": [
    "# so that the WHOIS_COUNTRY column is the same each run\n",
    "data[\"URL\"] = pd.read_csv(\"Test.csv\")[\"URL\"]\n",
    "transform(data, \"URL\")"
   ]
  },
  {
   "cell_type": "code",
   "execution_count": 145,
   "id": "6590cecb-ad9d-40ec-913b-6c4d51dbbe8f",
   "metadata": {},
   "outputs": [],
   "source": [
    "# so that the WHOIS_COUNTRY column is the same each run\n",
    "data[\"WHOIS_COUNTRY\"] = pd.read_csv(\"Test.csv\")[\"WHOIS_COUNTRY\"]\n",
    "transform(data, \"WHOIS_COUNTRY\")"
   ]
  },
  {
   "cell_type": "code",
   "execution_count": 154,
   "id": "d2bb915c-7aff-4dbb-9610-aa45b035e5a4",
   "metadata": {},
   "outputs": [],
   "source": [
    "# so that the WHOIS_COUNTRY column is the same each run\n",
    "data[\"SERVER\"] = pd.read_csv(\"Test.csv\")[\"SERVER\"]\n",
    "transform(data, \"SERVER\")"
   ]
  },
  {
   "cell_type": "code",
   "execution_count": 155,
   "id": "f4ff50f9-c47c-4d9a-9db4-640541b58b56",
   "metadata": {},
   "outputs": [],
   "source": [
    "# so that the WHOIS_COUNTRY column is the same each run\n",
    "data[\"CHARSET\"] = pd.read_csv(\"Test.csv\")[\"CHARSET\"]\n",
    "transform(data, \"CHARSET\")"
   ]
  },
  {
   "cell_type": "code",
   "execution_count": 146,
   "id": "7059e023-d06a-49ed-bdcc-bccd2be5ab2c",
   "metadata": {},
   "outputs": [
    {
     "data": {
      "text/html": [
       "<div>\n",
       "<style scoped>\n",
       "    .dataframe tbody tr th:only-of-type {\n",
       "        vertical-align: middle;\n",
       "    }\n",
       "\n",
       "    .dataframe tbody tr th {\n",
       "        vertical-align: top;\n",
       "    }\n",
       "\n",
       "    .dataframe thead th {\n",
       "        text-align: right;\n",
       "    }\n",
       "</style>\n",
       "<table border=\"1\" class=\"dataframe\">\n",
       "  <thead>\n",
       "    <tr style=\"text-align: right;\">\n",
       "      <th></th>\n",
       "      <th>URL</th>\n",
       "      <th>URL_LENGTH</th>\n",
       "      <th>NUMBER_SPECIAL_CHARACTERS</th>\n",
       "      <th>CHARSET</th>\n",
       "      <th>SERVER</th>\n",
       "      <th>CONTENT_LENGTH</th>\n",
       "      <th>WHOIS_COUNTRY</th>\n",
       "      <th>WHOIS_STATEPRO</th>\n",
       "      <th>WHOIS_REGDATE</th>\n",
       "      <th>WHOIS_UPDATED_DATE</th>\n",
       "      <th>TCP_CONVERSATION_EXCHANGE</th>\n",
       "      <th>DIST_REMOTE_TCP_PORT</th>\n",
       "      <th>REMOTE_IPS</th>\n",
       "      <th>APP_BYTES</th>\n",
       "      <th>SOURCE_APP_PACKETS</th>\n",
       "      <th>REMOTE_APP_PACKETS</th>\n",
       "      <th>SOURCE_APP_BYTES</th>\n",
       "      <th>REMOTE_APP_BYTES</th>\n",
       "      <th>APP_PACKETS</th>\n",
       "      <th>DNS_QUERY_TIMES</th>\n",
       "    </tr>\n",
       "  </thead>\n",
       "  <tbody>\n",
       "    <tr>\n",
       "      <th>0</th>\n",
       "      <td>160</td>\n",
       "      <td>100</td>\n",
       "      <td>20</td>\n",
       "      <td>UTF-8</td>\n",
       "      <td>Apache</td>\n",
       "      <td>NaN</td>\n",
       "      <td>14</td>\n",
       "      <td>Barcelona</td>\n",
       "      <td>17/09/2008 0:00</td>\n",
       "      <td>2/09/2016 0:00</td>\n",
       "      <td>0</td>\n",
       "      <td>0</td>\n",
       "      <td>0</td>\n",
       "      <td>0</td>\n",
       "      <td>0</td>\n",
       "      <td>3</td>\n",
       "      <td>186</td>\n",
       "      <td>0</td>\n",
       "      <td>0</td>\n",
       "      <td>0.0</td>\n",
       "    </tr>\n",
       "    <tr>\n",
       "      <th>1</th>\n",
       "      <td>279</td>\n",
       "      <td>50</td>\n",
       "      <td>11</td>\n",
       "      <td>ISO-8859-1</td>\n",
       "      <td>None</td>\n",
       "      <td>1819.0</td>\n",
       "      <td>14</td>\n",
       "      <td>CA</td>\n",
       "      <td>2/11/2002 0:00</td>\n",
       "      <td>2/02/2017 0:00</td>\n",
       "      <td>33</td>\n",
       "      <td>27</td>\n",
       "      <td>5</td>\n",
       "      <td>5203</td>\n",
       "      <td>41</td>\n",
       "      <td>44</td>\n",
       "      <td>13097</td>\n",
       "      <td>5803</td>\n",
       "      <td>41</td>\n",
       "      <td>8.0</td>\n",
       "    </tr>\n",
       "    <tr>\n",
       "      <th>2</th>\n",
       "      <td>33</td>\n",
       "      <td>28</td>\n",
       "      <td>7</td>\n",
       "      <td>UTF-8</td>\n",
       "      <td>GSE</td>\n",
       "      <td>6666.0</td>\n",
       "      <td>24</td>\n",
       "      <td>CA</td>\n",
       "      <td>31/07/2000 0:00</td>\n",
       "      <td>29/06/2016 0:00</td>\n",
       "      <td>66</td>\n",
       "      <td>5</td>\n",
       "      <td>11</td>\n",
       "      <td>6311</td>\n",
       "      <td>70</td>\n",
       "      <td>64</td>\n",
       "      <td>63634</td>\n",
       "      <td>6633</td>\n",
       "      <td>70</td>\n",
       "      <td>4.0</td>\n",
       "    </tr>\n",
       "    <tr>\n",
       "      <th>3</th>\n",
       "      <td>188</td>\n",
       "      <td>43</td>\n",
       "      <td>7</td>\n",
       "      <td>UTF-8</td>\n",
       "      <td>GSE</td>\n",
       "      <td>20592.0</td>\n",
       "      <td>24</td>\n",
       "      <td>CA</td>\n",
       "      <td>31/07/2000 0:00</td>\n",
       "      <td>29/06/2016 0:00</td>\n",
       "      <td>64</td>\n",
       "      <td>5</td>\n",
       "      <td>13</td>\n",
       "      <td>6081</td>\n",
       "      <td>69</td>\n",
       "      <td>71</td>\n",
       "      <td>63457</td>\n",
       "      <td>6463</td>\n",
       "      <td>69</td>\n",
       "      <td>4.0</td>\n",
       "    </tr>\n",
       "    <tr>\n",
       "      <th>4</th>\n",
       "      <td>102</td>\n",
       "      <td>47</td>\n",
       "      <td>11</td>\n",
       "      <td>utf-8</td>\n",
       "      <td>Apache/2.2.15 (Red Hat)</td>\n",
       "      <td>NaN</td>\n",
       "      <td>18</td>\n",
       "      <td>None</td>\n",
       "      <td>None</td>\n",
       "      <td>None</td>\n",
       "      <td>15</td>\n",
       "      <td>1</td>\n",
       "      <td>7</td>\n",
       "      <td>1552</td>\n",
       "      <td>21</td>\n",
       "      <td>20</td>\n",
       "      <td>2790</td>\n",
       "      <td>2000</td>\n",
       "      <td>21</td>\n",
       "      <td>6.0</td>\n",
       "    </tr>\n",
       "    <tr>\n",
       "      <th>...</th>\n",
       "      <td>...</td>\n",
       "      <td>...</td>\n",
       "      <td>...</td>\n",
       "      <td>...</td>\n",
       "      <td>...</td>\n",
       "      <td>...</td>\n",
       "      <td>...</td>\n",
       "      <td>...</td>\n",
       "      <td>...</td>\n",
       "      <td>...</td>\n",
       "      <td>...</td>\n",
       "      <td>...</td>\n",
       "      <td>...</td>\n",
       "      <td>...</td>\n",
       "      <td>...</td>\n",
       "      <td>...</td>\n",
       "      <td>...</td>\n",
       "      <td>...</td>\n",
       "      <td>...</td>\n",
       "      <td>...</td>\n",
       "    </tr>\n",
       "    <tr>\n",
       "      <th>345</th>\n",
       "      <td>15</td>\n",
       "      <td>141</td>\n",
       "      <td>24</td>\n",
       "      <td>UTF-8</td>\n",
       "      <td>ATS</td>\n",
       "      <td>NaN</td>\n",
       "      <td>24</td>\n",
       "      <td>CA</td>\n",
       "      <td>18/01/1995 0:00</td>\n",
       "      <td>26/08/2015 0:00</td>\n",
       "      <td>31</td>\n",
       "      <td>7</td>\n",
       "      <td>6</td>\n",
       "      <td>3925</td>\n",
       "      <td>39</td>\n",
       "      <td>35</td>\n",
       "      <td>21489</td>\n",
       "      <td>4535</td>\n",
       "      <td>39</td>\n",
       "      <td>8.0</td>\n",
       "    </tr>\n",
       "    <tr>\n",
       "      <th>346</th>\n",
       "      <td>16</td>\n",
       "      <td>48</td>\n",
       "      <td>14</td>\n",
       "      <td>UTF-8</td>\n",
       "      <td>Apache</td>\n",
       "      <td>NaN</td>\n",
       "      <td>24</td>\n",
       "      <td>PRAHA</td>\n",
       "      <td>7/10/2006 0:00</td>\n",
       "      <td>7/03/2017 0:00</td>\n",
       "      <td>48</td>\n",
       "      <td>0</td>\n",
       "      <td>1</td>\n",
       "      <td>3450</td>\n",
       "      <td>50</td>\n",
       "      <td>51</td>\n",
       "      <td>66124</td>\n",
       "      <td>3602</td>\n",
       "      <td>50</td>\n",
       "      <td>2.0</td>\n",
       "    </tr>\n",
       "    <tr>\n",
       "      <th>347</th>\n",
       "      <td>18</td>\n",
       "      <td>25</td>\n",
       "      <td>6</td>\n",
       "      <td>UTF-8</td>\n",
       "      <td>LiteSpeed</td>\n",
       "      <td>NaN</td>\n",
       "      <td>24</td>\n",
       "      <td>None</td>\n",
       "      <td>27/01/2005 0:00</td>\n",
       "      <td>15/11/2013 0:00</td>\n",
       "      <td>6</td>\n",
       "      <td>5</td>\n",
       "      <td>2</td>\n",
       "      <td>564</td>\n",
       "      <td>6</td>\n",
       "      <td>7</td>\n",
       "      <td>442</td>\n",
       "      <td>564</td>\n",
       "      <td>6</td>\n",
       "      <td>0.0</td>\n",
       "    </tr>\n",
       "    <tr>\n",
       "      <th>348</th>\n",
       "      <td>20</td>\n",
       "      <td>88</td>\n",
       "      <td>15</td>\n",
       "      <td>UTF-8</td>\n",
       "      <td>Apache</td>\n",
       "      <td>NaN</td>\n",
       "      <td>14</td>\n",
       "      <td>None</td>\n",
       "      <td>25/03/2010 0:00</td>\n",
       "      <td>25/03/2017 0:00</td>\n",
       "      <td>11</td>\n",
       "      <td>3</td>\n",
       "      <td>4</td>\n",
       "      <td>1346</td>\n",
       "      <td>15</td>\n",
       "      <td>16</td>\n",
       "      <td>1725</td>\n",
       "      <td>1670</td>\n",
       "      <td>15</td>\n",
       "      <td>4.0</td>\n",
       "    </tr>\n",
       "    <tr>\n",
       "      <th>349</th>\n",
       "      <td>23</td>\n",
       "      <td>47</td>\n",
       "      <td>9</td>\n",
       "      <td>ISO-8859-1</td>\n",
       "      <td>None</td>\n",
       "      <td>675.0</td>\n",
       "      <td>24</td>\n",
       "      <td>California</td>\n",
       "      <td>28/11/1999 0:00</td>\n",
       "      <td>9/09/2013 0:00</td>\n",
       "      <td>0</td>\n",
       "      <td>0</td>\n",
       "      <td>0</td>\n",
       "      <td>0</td>\n",
       "      <td>0</td>\n",
       "      <td>0</td>\n",
       "      <td>0</td>\n",
       "      <td>0</td>\n",
       "      <td>0</td>\n",
       "      <td>0.0</td>\n",
       "    </tr>\n",
       "  </tbody>\n",
       "</table>\n",
       "<p>350 rows × 20 columns</p>\n",
       "</div>"
      ],
      "text/plain": [
       "     URL  URL_LENGTH  NUMBER_SPECIAL_CHARACTERS     CHARSET  \\\n",
       "0    160         100                         20       UTF-8   \n",
       "1    279          50                         11  ISO-8859-1   \n",
       "2     33          28                          7       UTF-8   \n",
       "3    188          43                          7       UTF-8   \n",
       "4    102          47                         11       utf-8   \n",
       "..   ...         ...                        ...         ...   \n",
       "345   15         141                         24       UTF-8   \n",
       "346   16          48                         14       UTF-8   \n",
       "347   18          25                          6       UTF-8   \n",
       "348   20          88                         15       UTF-8   \n",
       "349   23          47                          9  ISO-8859-1   \n",
       "\n",
       "                      SERVER  CONTENT_LENGTH  WHOIS_COUNTRY WHOIS_STATEPRO  \\\n",
       "0                     Apache             NaN             14      Barcelona   \n",
       "1                       None          1819.0             14             CA   \n",
       "2                        GSE          6666.0             24             CA   \n",
       "3                        GSE         20592.0             24             CA   \n",
       "4    Apache/2.2.15 (Red Hat)             NaN             18           None   \n",
       "..                       ...             ...            ...            ...   \n",
       "345                      ATS             NaN             24             CA   \n",
       "346                   Apache             NaN             24          PRAHA   \n",
       "347                LiteSpeed             NaN             24           None   \n",
       "348                   Apache             NaN             14           None   \n",
       "349                     None           675.0             24     California   \n",
       "\n",
       "       WHOIS_REGDATE WHOIS_UPDATED_DATE  TCP_CONVERSATION_EXCHANGE  \\\n",
       "0    17/09/2008 0:00     2/09/2016 0:00                          0   \n",
       "1     2/11/2002 0:00     2/02/2017 0:00                         33   \n",
       "2    31/07/2000 0:00    29/06/2016 0:00                         66   \n",
       "3    31/07/2000 0:00    29/06/2016 0:00                         64   \n",
       "4               None               None                         15   \n",
       "..               ...                ...                        ...   \n",
       "345  18/01/1995 0:00    26/08/2015 0:00                         31   \n",
       "346   7/10/2006 0:00     7/03/2017 0:00                         48   \n",
       "347  27/01/2005 0:00    15/11/2013 0:00                          6   \n",
       "348  25/03/2010 0:00    25/03/2017 0:00                         11   \n",
       "349  28/11/1999 0:00     9/09/2013 0:00                          0   \n",
       "\n",
       "     DIST_REMOTE_TCP_PORT  REMOTE_IPS  APP_BYTES  SOURCE_APP_PACKETS  \\\n",
       "0                       0           0          0                   0   \n",
       "1                      27           5       5203                  41   \n",
       "2                       5          11       6311                  70   \n",
       "3                       5          13       6081                  69   \n",
       "4                       1           7       1552                  21   \n",
       "..                    ...         ...        ...                 ...   \n",
       "345                     7           6       3925                  39   \n",
       "346                     0           1       3450                  50   \n",
       "347                     5           2        564                   6   \n",
       "348                     3           4       1346                  15   \n",
       "349                     0           0          0                   0   \n",
       "\n",
       "     REMOTE_APP_PACKETS  SOURCE_APP_BYTES  REMOTE_APP_BYTES  APP_PACKETS  \\\n",
       "0                     3               186                 0            0   \n",
       "1                    44             13097              5803           41   \n",
       "2                    64             63634              6633           70   \n",
       "3                    71             63457              6463           69   \n",
       "4                    20              2790              2000           21   \n",
       "..                  ...               ...               ...          ...   \n",
       "345                  35             21489              4535           39   \n",
       "346                  51             66124              3602           50   \n",
       "347                   7               442               564            6   \n",
       "348                  16              1725              1670           15   \n",
       "349                   0                 0                 0            0   \n",
       "\n",
       "     DNS_QUERY_TIMES  \n",
       "0                0.0  \n",
       "1                8.0  \n",
       "2                4.0  \n",
       "3                4.0  \n",
       "4                6.0  \n",
       "..               ...  \n",
       "345              8.0  \n",
       "346              2.0  \n",
       "347              0.0  \n",
       "348              4.0  \n",
       "349              0.0  \n",
       "\n",
       "[350 rows x 20 columns]"
      ]
     },
     "execution_count": 146,
     "metadata": {},
     "output_type": "execute_result"
    }
   ],
   "source": [
    "data"
   ]
  },
  {
   "cell_type": "code",
   "execution_count": 148,
   "id": "dd58212a-8ae5-489b-87b5-730b273c73a2",
   "metadata": {},
   "outputs": [
    {
     "data": {
      "text/plain": [
       "array([0, 0, 0, 0, 0, 0, 0, 0, 0, 0, 0, 0, 0, 0, 0, 0, 0, 0, 0, 0, 0, 0,\n",
       "       0, 0, 0, 0, 0, 0, 0, 0, 0, 0, 0, 0, 0, 0, 0, 0, 0, 0, 0, 0, 0, 0,\n",
       "       0, 0, 0, 0, 0, 0, 0, 0, 0, 0, 0, 0, 0, 0, 0, 0, 0, 0, 0, 0, 0, 0,\n",
       "       0, 0, 0, 0, 0, 0, 0, 0, 0, 0, 0, 0, 0, 0, 0, 0, 0, 0, 0, 0, 0, 0,\n",
       "       0, 0, 0, 0, 0, 0, 0, 0, 0, 0, 0, 0, 0, 0, 0, 0, 0, 0, 0, 0, 0, 0,\n",
       "       0, 0, 0, 0, 0, 0, 0, 0, 0, 0, 0, 0, 0, 0, 0, 0, 0, 0, 0, 0, 0, 0,\n",
       "       0, 0, 0, 0, 0, 0, 0, 0, 0, 0, 0, 0, 0, 0, 0, 0, 0, 0, 0, 0, 0, 0,\n",
       "       0, 0, 0, 0, 0, 0, 0, 0, 0, 0, 0, 0, 0, 0, 0, 0, 0, 0, 0, 0, 0, 0,\n",
       "       0, 0, 0, 0, 0, 0, 0, 0, 0, 0, 0, 0, 0, 0, 0, 0, 0, 0, 0, 0, 0, 0,\n",
       "       0, 0, 0, 0, 0, 0, 0, 0, 0, 0, 0, 0, 0, 0, 0, 0, 0, 0, 0, 0, 0, 0,\n",
       "       0, 0, 0, 0, 0, 0, 0, 0, 0, 0, 0, 0, 0, 0, 0, 0, 0, 0, 0, 0, 0, 0,\n",
       "       0, 0, 0, 0, 0, 0, 0, 0, 0, 0, 0, 0, 0, 0, 0, 0, 0, 0, 0, 0, 0, 0,\n",
       "       0, 0, 0, 0, 0, 0, 0, 0, 0, 0, 0, 0, 0, 0, 0, 0, 0, 0, 0, 0, 0, 0,\n",
       "       0, 0, 0, 0, 0, 0, 0, 0, 0, 0, 0, 0, 0, 0, 0, 0, 0, 0, 0, 0, 0, 0,\n",
       "       0, 0, 0, 0, 0, 0, 0, 0, 0, 0, 0, 0, 0, 0, 0, 0, 0, 0, 0, 0, 0, 0,\n",
       "       0, 0, 0, 0, 0, 0, 0, 0, 0, 0, 0, 0, 0, 0, 0, 0, 0, 0, 0, 0])"
      ]
     },
     "execution_count": 148,
     "metadata": {},
     "output_type": "execute_result"
    }
   ],
   "source": [
    "LR.predict(data[[\"URL\", \"URL_LENGTH\", \"NUMBER_SPECIAL_CHARACTERS\", \"WHOIS_COUNTRY\"]])"
   ]
  },
  {
   "cell_type": "code",
   "execution_count": 149,
   "id": "61b01ae7-c050-4d45-b622-87de60b15e4e",
   "metadata": {},
   "outputs": [
    {
     "data": {
      "text/plain": [
       "array([0, 0, 0, 0, 0, 0, 0, 0, 0, 0, 0, 0, 0, 0, 0, 0, 0, 0, 0, 0, 0, 0,\n",
       "       0, 0, 0, 0, 0, 0, 0, 0, 0, 0, 0, 0, 0, 0, 0, 0, 0, 0, 0, 0, 0, 0,\n",
       "       0, 0, 0, 0, 0, 0, 0, 0, 0, 0, 0, 0, 0, 0, 0, 0, 0, 0, 0, 0, 0, 0,\n",
       "       0, 0, 0, 0, 0, 0, 0, 0, 0, 0, 0, 0, 0, 0, 0, 0, 0, 0, 0, 0, 0, 0,\n",
       "       0, 0, 0, 0, 0, 0, 0, 0, 0, 0, 0, 0, 0, 0, 0, 0, 0, 0, 0, 0, 0, 0,\n",
       "       0, 0, 0, 0, 0, 0, 0, 0, 0, 0, 0, 0, 0, 0, 0, 0, 0, 0, 0, 0, 0, 0,\n",
       "       0, 0, 0, 0, 0, 0, 0, 0, 0, 0, 0, 0, 0, 0, 0, 0, 0, 0, 0, 0, 0, 0,\n",
       "       0, 0, 0, 0, 0, 0, 0, 0, 0, 0, 0, 0, 0, 0, 0, 0, 0, 0, 0, 0, 0, 0,\n",
       "       0, 0, 0, 0, 0, 0, 0, 0, 0, 0, 0, 0, 0, 0, 0, 0, 0, 0, 0, 0, 0, 0,\n",
       "       0, 0, 0, 0, 0, 0, 0, 0, 0, 0, 0, 0, 0, 0, 0, 0, 0, 0, 0, 0, 0, 0,\n",
       "       0, 0, 0, 0, 0, 0, 0, 0, 0, 0, 0, 0, 0, 0, 0, 0, 0, 0, 0, 0, 0, 0,\n",
       "       0, 0, 0, 0, 0, 0, 0, 0, 0, 0, 0, 0, 0, 0, 0, 0, 0, 0, 0, 0, 0, 0,\n",
       "       0, 0, 0, 0, 0, 0, 0, 0, 0, 0, 0, 0, 0, 0, 0, 0, 0, 0, 0, 0, 0, 0,\n",
       "       0, 0, 0, 0, 0, 0, 0, 0, 0, 0, 0, 0, 0, 0, 0, 0, 0, 0, 0, 0, 0, 0,\n",
       "       0, 0, 0, 0, 0, 0, 0, 0, 0, 0, 0, 0, 0, 0, 0, 0, 0, 0, 0, 0, 0, 0,\n",
       "       0, 0, 0, 0, 0, 0, 0, 0, 0, 0, 0, 0, 0, 0, 0, 0, 0, 0, 0, 0])"
      ]
     },
     "execution_count": 149,
     "metadata": {},
     "output_type": "execute_result"
    }
   ],
   "source": [
    "RFC.predict(data[[\"URL\", \"URL_LENGTH\", \"NUMBER_SPECIAL_CHARACTERS\", \"WHOIS_COUNTRY\"]])"
   ]
  },
  {
   "cell_type": "code",
   "execution_count": 150,
   "id": "cde4f62f-417e-482d-8faa-f7828d8b4120",
   "metadata": {},
   "outputs": [
    {
     "data": {
      "text/plain": [
       "array([0, 0, 0, 0, 0, 0, 0, 0, 0, 0, 0, 0, 0, 0, 0, 0, 0, 0, 0, 0, 0, 0,\n",
       "       0, 0, 0, 0, 0, 0, 0, 0, 0, 0, 0, 0, 0, 0, 0, 0, 0, 0, 0, 0, 0, 0,\n",
       "       0, 0, 0, 0, 0, 0, 0, 0, 0, 0, 0, 0, 0, 0, 0, 0, 0, 0, 0, 0, 0, 0,\n",
       "       0, 0, 0, 0, 0, 0, 0, 0, 0, 0, 0, 0, 0, 0, 0, 0, 0, 0, 0, 0, 0, 0,\n",
       "       0, 0, 0, 0, 0, 0, 0, 0, 0, 0, 0, 0, 0, 0, 0, 0, 0, 0, 0, 0, 0, 0,\n",
       "       0, 0, 0, 0, 0, 0, 0, 0, 0, 0, 0, 0, 0, 0, 0, 0, 0, 0, 0, 0, 0, 0,\n",
       "       0, 0, 0, 0, 0, 0, 0, 0, 0, 0, 0, 0, 0, 0, 0, 0, 0, 0, 0, 0, 0, 0,\n",
       "       0, 0, 0, 0, 0, 0, 0, 0, 0, 0, 0, 0, 0, 0, 0, 0, 0, 0, 0, 0, 0, 0,\n",
       "       0, 0, 0, 0, 0, 0, 0, 0, 0, 0, 0, 0, 0, 0, 0, 0, 0, 0, 0, 0, 0, 0,\n",
       "       0, 0, 0, 0, 0, 0, 0, 0, 0, 0, 0, 0, 0, 0, 0, 0, 0, 0, 0, 0, 0, 0,\n",
       "       0, 0, 0, 0, 0, 0, 0, 0, 0, 0, 0, 0, 0, 0, 0, 0, 0, 0, 0, 0, 0, 0,\n",
       "       0, 0, 0, 0, 0, 0, 0, 0, 0, 0, 0, 0, 0, 0, 0, 0, 0, 0, 0, 0, 0, 0,\n",
       "       0, 0, 0, 0, 0, 0, 0, 0, 0, 0, 0, 0, 0, 0, 0, 0, 0, 0, 0, 0, 0, 0,\n",
       "       0, 0, 0, 0, 0, 0, 0, 0, 0, 0, 0, 0, 0, 0, 0, 0, 0, 0, 0, 0, 0, 0,\n",
       "       0, 0, 0, 0, 0, 0, 0, 0, 0, 0, 0, 0, 0, 0, 0, 0, 0, 0, 0, 0, 0, 0,\n",
       "       0, 0, 0, 0, 0, 0, 0, 0, 0, 0, 0, 0, 0, 0, 0, 0, 0, 0, 0, 0])"
      ]
     },
     "execution_count": 150,
     "metadata": {},
     "output_type": "execute_result"
    }
   ],
   "source": [
    "SVC.predict(data[[\"URL\", \"URL_LENGTH\", \"NUMBER_SPECIAL_CHARACTERS\", \"WHOIS_COUNTRY\"]])"
   ]
  },
  {
   "cell_type": "markdown",
   "id": "afcc89e8-37f0-485a-9042-a8ae45d26c38",
   "metadata": {},
   "source": [
    "### URL overlearning problem\n",
    "#### The problem is that the model overlearns on the URL, however the URL values in the testing dataset are significantly different, thus predicting all test examples to class 0. We don't have access to the actual classes, so there is no way of knowing if this is correct or not, however we presume that there are at least a few malicious websites (class 1) among the test examples"
   ]
  },
  {
   "cell_type": "code",
   "execution_count": 151,
   "id": "c17eda93-7412-49cf-b8ae-12c548421b17",
   "metadata": {},
   "outputs": [
    {
     "name": "stdout",
     "output_type": "stream",
     "text": [
      "Training data mean URL: 985.1918238993711\n",
      "Testing data mean URL: 174.5\n"
     ]
    }
   ],
   "source": [
    "print(\"Training data mean URL:\", X[\"URL\"].mean())\n",
    "print(\"Testing data mean URL:\", data[\"URL\"].mean())"
   ]
  },
  {
   "cell_type": "markdown",
   "id": "9625a107-05e4-412e-8be7-50e7445949ab",
   "metadata": {},
   "source": [
    "### Try training on more features to avoid overfitting on URL\n",
    "##### If we omit the URL, the data becomes harder to separate"
   ]
  },
  {
   "cell_type": "code",
   "execution_count": 170,
   "id": "eaa998b4-35c6-4424-9e8b-d8f906db91cc",
   "metadata": {},
   "outputs": [
    {
     "data": {
      "text/plain": [
       "Text(0.5, 1.0, 'PCA reduced data')"
      ]
     },
     "execution_count": 170,
     "metadata": {},
     "output_type": "execute_result"
    },
    {
     "data": {
      "image/png": "[encoded data removed]",
      "text/plain": [
       "<Figure size 432x288 with 1 Axes>"
      ]
     },
     "metadata": {
      "needs_background": "light"
     },
     "output_type": "display_data"
    }
   ],
   "source": [
    "# take the highest correlated rows\n",
    "X = data_transformed[[\"URL_LENGTH\", \"NUMBER_SPECIAL_CHARACTERS\", \"WHOIS_COUNTRY\",\"SERVER\",\"TCP_CONVERSATION_EXCHANGE\",\"APP_PACKETS\", \"REMOTE_APP_BYTES\",\"Type\"]]\n",
    "\n",
    "# take all rows with class 1\n",
    "class_1 = X[X[\"Type\"] == 1]\n",
    "\n",
    "# get amount of class 1s\n",
    "n_class_1 = len(class_1)\n",
    "\n",
    "# randomly sample rows with Type 0 n_class_1 times\n",
    "class_0 = X[X[\"Type\"] == 0].sample(n=n_class_1*, random_state=1)\n",
    "\n",
    "# join the two into one final dataframe \n",
    "X = pd.concat([class_1, class_0])\n",
    "\n",
    "# extract the class and features\n",
    "Y = X[\"Type\"]\n",
    "X = X.drop([\"Type\"], axis=1)\n",
    "\n",
    "pca = PCA(n_components=2)\n",
    "#col = (col-col.mean())/col.std()\n",
    "\n",
    "sc = pca.fit_transform(X)\n",
    "plt = scatterplot(x=[x[0] for x in sc],y=[x[1]for x in sc],hue=Y)\n",
    "plt.set_title('PCA reduced data')"
   ]
  },
  {
   "cell_type": "code",
   "execution_count": 171,
   "id": "588d4a79-9f47-4f2f-baec-c27ee0f68207",
   "metadata": {},
   "outputs": [
    {
     "name": "stdout",
     "output_type": "stream",
     "text": [
      "0.7708333333333334\n"
     ]
    }
   ],
   "source": [
    "from sklearn.neighbors import KNeighborsClassifier\n",
    "KNC = KNeighborsClassifier(n_neighbors=4)\n",
    "X_train, X_test, y_train, y_test = train_test_split(X, Y, test_size=0.3, random_state=42)\n",
    "KNC.fit(X_train, y_train)\n",
    "\n",
    "print(accuracy_score(y_test, KNC.predict(X_test)))"
   ]
  },
  {
   "cell_type": "code",
   "execution_count": 172,
   "id": "61af52de-2f21-4a07-9641-dff228ba5945",
   "metadata": {},
   "outputs": [
    {
     "data": {
      "text/plain": [
       "array([1, 0, 0, 0, 0, 0, 0, 1, 1, 1, 1, 0, 1, 0, 0, 1, 1, 1, 0, 1, 0, 0,\n",
       "       1, 0, 0, 0, 0, 0, 0, 0, 0, 0, 0, 0, 0, 0, 0, 0, 0, 1, 0, 0, 0, 0,\n",
       "       0, 0, 0, 1, 0, 0, 1, 0, 0, 1, 0, 0, 0, 0, 0, 0, 0, 0, 1, 0, 0, 0,\n",
       "       0, 0, 0, 1, 0, 0, 1, 0, 0, 0, 1, 0, 0, 1, 1, 0, 1, 1, 0, 1, 0, 1,\n",
       "       0, 0, 0, 1, 0, 1, 1, 0, 0, 0, 1, 0, 0, 1, 0, 1, 0, 0, 0, 0, 0, 1,\n",
       "       0, 0, 0, 1, 0, 0, 0, 0, 0, 0, 1, 0, 0, 1, 1, 0, 0, 1, 0, 1, 0, 1,\n",
       "       0, 1, 0, 0, 0, 1, 0, 0, 1, 0, 0, 0, 0, 0, 0, 1, 0, 0, 0, 0, 0, 0,\n",
       "       0, 0, 1, 0, 1, 0, 0, 0, 0, 0, 0, 0, 0, 0, 0, 1, 0, 0, 1, 0, 0, 0,\n",
       "       1, 0, 1, 0, 0, 0, 1, 1, 0, 0, 0, 1, 0, 0, 0, 1, 1, 0, 0, 0, 0, 0,\n",
       "       1, 1, 1, 0, 0, 0, 0, 1, 0, 0, 0, 0, 0, 0, 0, 0, 0, 0, 0, 1, 0, 0,\n",
       "       0, 0, 1, 0, 0, 0, 1, 1, 0, 0, 1, 1, 1, 0, 0, 0, 0, 1, 0, 0, 1, 0,\n",
       "       1, 0, 1, 0, 0, 1, 0, 0, 0, 0, 1, 0, 0, 1, 0, 0, 0, 0, 1, 0, 0, 1,\n",
       "       0, 0, 0, 1, 0, 1, 1, 0, 0, 0, 0, 1, 1, 0, 1, 1, 0, 0, 0, 0, 0, 0,\n",
       "       0, 0, 0, 0, 1, 0, 0, 0, 1, 0, 0, 0, 1, 0, 0, 0, 0, 0, 0, 1, 0, 0,\n",
       "       0, 0, 1, 0, 0, 0, 0, 0, 1, 0, 0, 1, 0, 0, 1, 0, 0, 0, 0, 1, 1, 0,\n",
       "       0, 0, 1, 0, 0, 0, 0, 1, 0, 0, 0, 0, 0, 0, 1, 0, 1, 0, 1, 0])"
      ]
     },
     "execution_count": 172,
     "metadata": {},
     "output_type": "execute_result"
    }
   ],
   "source": [
    "KNC.predict(data[[\"URL_LENGTH\", \"NUMBER_SPECIAL_CHARACTERS\", \"WHOIS_COUNTRY\",\"SERVER\",\"TCP_CONVERSATION_EXCHANGE\",\"APP_PACKETS\", \"REMOTE_APP_BYTES\"]])"
   ]
  },
  {
   "cell_type": "code",
   "execution_count": 175,
   "id": "85070da2-29eb-4625-bd87-9259034442a4",
   "metadata": {},
   "outputs": [
    {
     "name": "stdout",
     "output_type": "stream",
     "text": [
      "0.7083333333333334\n"
     ]
    }
   ],
   "source": [
    "from sklearn.discriminant_analysis import LinearDiscriminantAnalysis\n",
    "\n",
    "LDA = LinearDiscriminantAnalysis().fit(X_train, y_train)\n",
    "\n",
    "print(accuracy_score(y_test, LDA.predict(X_test)))"
   ]
  },
  {
   "cell_type": "code",
   "execution_count": 176,
   "id": "5e348f1b-b64a-4745-994f-6f6ebfeca98b",
   "metadata": {},
   "outputs": [
    {
     "name": "stdout",
     "output_type": "stream",
     "text": [
      "0.7291666666666666\n"
     ]
    }
   ],
   "source": [
    "from sklearn.neural_network import MLPClassifier\n",
    "\n",
    "MLP = MLPClassifier().fit(X_train, y_train)\n",
    "print(accuracy_score(y_test, MLP.predict(X_test)))"
   ]
  },
  {
   "cell_type": "markdown",
   "id": "8d65c494-de48-445c-8710-3bdbbb618770",
   "metadata": {},
   "source": [
    "### None of the models go above 73% on the basic data of size ~300\n",
    "### Try oversampling using SMOTE"
   ]
  },
  {
   "cell_type": "code",
   "execution_count": 189,
   "id": "bf30fa11-3bb1-48cf-99c6-f3685112dc0d",
   "metadata": {},
   "outputs": [],
   "source": [
    "# take the highest correlated rows\n",
    "X = data_transformed[[\"URL_LENGTH\", \"NUMBER_SPECIAL_CHARACTERS\", \"WHOIS_COUNTRY\",\"SERVER\",\"TCP_CONVERSATION_EXCHANGE\",\"APP_PACKETS\", \"REMOTE_APP_BYTES\",\"Type\"]]\n",
    "\n",
    "# take all rows with class 1\n",
    "class_1 = X[X[\"Type\"] == 1]\n",
    "\n",
    "# get amount of class 1s\n",
    "n_class_1 = len(class_1)\n",
    "\n",
    "# randomly sample rows with Type 0 n_class_1 times\n",
    "class_0 = X[X[\"Type\"] == 0].sample(n=n_class_1*5, random_state=1)\n",
    "\n",
    "# join the two into one final dataframe \n",
    "X = pd.concat([class_1, class_0])\n",
    "\n",
    "# extract the class and features\n",
    "Y = X[\"Type\"]\n",
    "X = X.drop([\"Type\"], axis=1)\n",
    "\n",
    "X_train, X_test, y_train, y_test = train_test_split(X, Y, test_size=0.3, random_state=42)"
   ]
  },
  {
   "cell_type": "code",
   "execution_count": 190,
   "id": "df02180c-757b-4a29-8f26-bc8247dec5fb",
   "metadata": {},
   "outputs": [
    {
     "data": {
      "text/plain": [
       "Text(0.5, 1.0, 'SMOTE oversampled examples')"
      ]
     },
     "execution_count": 190,
     "metadata": {},
     "output_type": "execute_result"
    },
    {
     "data": {
      "image/png": "[encoded data removed]",
      "text/plain": [
       "<Figure size 432x288 with 1 Axes>"
      ]
     },
     "metadata": {
      "needs_background": "light"
     },
     "output_type": "display_data"
    }
   ],
   "source": [
    "# convert the data into arrays for SMOTE\n",
    "X = X_train\n",
    "y_train = y_train.to_numpy() \n",
    "y = y_train\n",
    "\n",
    "# creates the SMOTE objects, fits and oversamples them\n",
    "oversample = SMOTE(random_state=42)\n",
    "X, y = oversample.fit_resample(X, y)\n",
    "\n",
    "pca = PCA(n_components=2)\n",
    "#col = (col-col.mean())/col.std()\n",
    "sc= pca.fit_transform(X)\n",
    "plt= scatterplot(x=[x[0] for x in sc],y=[x[1]for x in sc],hue=y)\n",
    "plt.set_title('SMOTE oversampled examples')"
   ]
  },
  {
   "cell_type": "code",
   "execution_count": 191,
   "id": "badbeb71-f212-4aa3-b94b-a103f056626d",
   "metadata": {},
   "outputs": [
    {
     "name": "stdout",
     "output_type": "stream",
     "text": [
      "0.8945783132530121\n"
     ]
    }
   ],
   "source": [
    "KNC = KNeighborsClassifier(n_neighbors=4)\n",
    "X_train, X_validation, y_train, y_validation = train_test_split(X, y, test_size=0.3, random_state=42)\n",
    "KNC.fit(X_train, y_train)\n",
    "\n",
    "print(accuracy_score(y_validation, KNC.predict(X_validation)))"
   ]
  },
  {
   "cell_type": "code",
   "execution_count": 192,
   "id": "cb4a26ad-b1b9-45e2-803b-da658d549e83",
   "metadata": {},
   "outputs": [
    {
     "name": "stdout",
     "output_type": "stream",
     "text": [
      "0.8118466898954704\n"
     ]
    }
   ],
   "source": [
    "print(accuracy_score(y_test, KNC.predict(X_test)))"
   ]
  },
  {
   "cell_type": "code",
   "execution_count": 185,
   "id": "cb30672e-3960-4f46-8257-17764338a6e7",
   "metadata": {},
   "outputs": [],
   "source": [
    "#KNC.predict(data[[\"URL_LENGTH\", \"NUMBER_SPECIAL_CHARACTERS\", \"WHOIS_COUNTRY\",\"SERVER\",\"TCP_CONVERSATION_EXCHANGE\",\"APP_PACKETS\", \"REMOTE_APP_BYTES\"]])"
   ]
  },
  {
   "cell_type": "markdown",
   "id": "986df5fb-bf5c-4f6a-ae2b-4067c00cf81b",
   "metadata": {},
   "source": [
    "### The validation set from the oversampled data reaches 89% accuracy\n",
    "### The test set data from the original set reaches 81% accuracy"
   ]
  },
  {
   "cell_type": "code",
   "execution_count": null,
   "id": "bc42a1cc-10c2-472b-a643-a3efc6320015",
   "metadata": {},
   "outputs": [],
   "source": []
  }
 ],
 "metadata": {
  "kernelspec": {
   "display_name": "Python 3",
   "language": "python",
   "name": "python3"
  },
  "language_info": {
   "codemirror_mode": {
    "name": "ipython",
    "version": 3
   },
   "file_extension": ".py",
   "mimetype": "text/x-python",
   "name": "python",
   "nbconvert_exporter": "python",
   "pygments_lexer": "ipython3",
   "version": "3.9.5"
  }
 },
 "nbformat": 4,
 "nbformat_minor": 5
}
