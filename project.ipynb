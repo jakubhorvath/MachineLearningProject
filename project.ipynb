{
 "cells": [
  {
   "cell_type": "markdown",
   "id": "c07c12d7-917f-4861-addb-8e15d5064e3f",
   "metadata": {},
   "source": [
    "# Machine Learning Project"
   ]
  },
  {
   "cell_type": "markdown",
   "id": "7347ee08-069b-42b9-a450-709d8710200a",
   "metadata": {},
   "source": [
    "### Load the data into a dataframe"
   ]
  },
  {
   "cell_type": "code",
   "execution_count": 238,
   "id": "df4a289a-23e3-4557-ab29-02efa3a3ed6e",
   "metadata": {},
   "outputs": [
    {
     "data": {
      "text/html": [
       "<div>\n",
       "<style scoped>\n",
       "    .dataframe tbody tr th:only-of-type {\n",
       "        vertical-align: middle;\n",
       "    }\n",
       "\n",
       "    .dataframe tbody tr th {\n",
       "        vertical-align: top;\n",
       "    }\n",
       "\n",
       "    .dataframe thead th {\n",
       "        text-align: right;\n",
       "    }\n",
       "</style>\n",
       "<table border=\"1\" class=\"dataframe\">\n",
       "  <thead>\n",
       "    <tr style=\"text-align: right;\">\n",
       "      <th></th>\n",
       "      <th>URL</th>\n",
       "      <th>URL_LENGTH</th>\n",
       "      <th>NUMBER_SPECIAL_CHARACTERS</th>\n",
       "      <th>CHARSET</th>\n",
       "      <th>SERVER</th>\n",
       "      <th>CONTENT_LENGTH</th>\n",
       "      <th>WHOIS_COUNTRY</th>\n",
       "      <th>WHOIS_STATEPRO</th>\n",
       "      <th>WHOIS_REGDATE</th>\n",
       "      <th>WHOIS_UPDATED_DATE</th>\n",
       "      <th>...</th>\n",
       "      <th>DIST_REMOTE_TCP_PORT</th>\n",
       "      <th>REMOTE_IPS</th>\n",
       "      <th>APP_BYTES</th>\n",
       "      <th>SOURCE_APP_PACKETS</th>\n",
       "      <th>REMOTE_APP_PACKETS</th>\n",
       "      <th>SOURCE_APP_BYTES</th>\n",
       "      <th>REMOTE_APP_BYTES</th>\n",
       "      <th>APP_PACKETS</th>\n",
       "      <th>DNS_QUERY_TIMES</th>\n",
       "      <th>Type</th>\n",
       "    </tr>\n",
       "  </thead>\n",
       "  <tbody>\n",
       "    <tr>\n",
       "      <th>0</th>\n",
       "      <td>B0_2314</td>\n",
       "      <td>16</td>\n",
       "      <td>6</td>\n",
       "      <td>UTF-8</td>\n",
       "      <td>Apache/2.4.10</td>\n",
       "      <td>15087.0</td>\n",
       "      <td>None</td>\n",
       "      <td>None</td>\n",
       "      <td>None</td>\n",
       "      <td>None</td>\n",
       "      <td>...</td>\n",
       "      <td>7</td>\n",
       "      <td>4</td>\n",
       "      <td>1230</td>\n",
       "      <td>17</td>\n",
       "      <td>19</td>\n",
       "      <td>1265</td>\n",
       "      <td>1230</td>\n",
       "      <td>17</td>\n",
       "      <td>0.0</td>\n",
       "      <td>0</td>\n",
       "    </tr>\n",
       "    <tr>\n",
       "      <th>1</th>\n",
       "      <td>B0_911</td>\n",
       "      <td>16</td>\n",
       "      <td>6</td>\n",
       "      <td>us-ascii</td>\n",
       "      <td>Microsoft-HTTPAPI/2.0</td>\n",
       "      <td>324.0</td>\n",
       "      <td>None</td>\n",
       "      <td>None</td>\n",
       "      <td>None</td>\n",
       "      <td>None</td>\n",
       "      <td>...</td>\n",
       "      <td>0</td>\n",
       "      <td>0</td>\n",
       "      <td>0</td>\n",
       "      <td>0</td>\n",
       "      <td>0</td>\n",
       "      <td>0</td>\n",
       "      <td>0</td>\n",
       "      <td>0</td>\n",
       "      <td>0.0</td>\n",
       "      <td>0</td>\n",
       "    </tr>\n",
       "    <tr>\n",
       "      <th>2</th>\n",
       "      <td>B0_113</td>\n",
       "      <td>17</td>\n",
       "      <td>6</td>\n",
       "      <td>ISO-8859-1</td>\n",
       "      <td>nginx</td>\n",
       "      <td>162.0</td>\n",
       "      <td>US</td>\n",
       "      <td>AK</td>\n",
       "      <td>7/10/1997 4:00</td>\n",
       "      <td>12/09/2013 0:45</td>\n",
       "      <td>...</td>\n",
       "      <td>22</td>\n",
       "      <td>3</td>\n",
       "      <td>3812</td>\n",
       "      <td>39</td>\n",
       "      <td>37</td>\n",
       "      <td>18784</td>\n",
       "      <td>4380</td>\n",
       "      <td>39</td>\n",
       "      <td>8.0</td>\n",
       "      <td>0</td>\n",
       "    </tr>\n",
       "    <tr>\n",
       "      <th>3</th>\n",
       "      <td>B0_403</td>\n",
       "      <td>17</td>\n",
       "      <td>6</td>\n",
       "      <td>UTF-8</td>\n",
       "      <td>None</td>\n",
       "      <td>124140.0</td>\n",
       "      <td>US</td>\n",
       "      <td>TX</td>\n",
       "      <td>12/05/1996 0:00</td>\n",
       "      <td>11/04/2017 0:00</td>\n",
       "      <td>...</td>\n",
       "      <td>2</td>\n",
       "      <td>5</td>\n",
       "      <td>4278</td>\n",
       "      <td>61</td>\n",
       "      <td>62</td>\n",
       "      <td>129889</td>\n",
       "      <td>4586</td>\n",
       "      <td>61</td>\n",
       "      <td>4.0</td>\n",
       "      <td>0</td>\n",
       "    </tr>\n",
       "    <tr>\n",
       "      <th>4</th>\n",
       "      <td>B0_2064</td>\n",
       "      <td>18</td>\n",
       "      <td>7</td>\n",
       "      <td>UTF-8</td>\n",
       "      <td>nginx</td>\n",
       "      <td>NaN</td>\n",
       "      <td>SC</td>\n",
       "      <td>Mahe</td>\n",
       "      <td>3/08/2016 14:30</td>\n",
       "      <td>3/10/2016 3:45</td>\n",
       "      <td>...</td>\n",
       "      <td>6</td>\n",
       "      <td>9</td>\n",
       "      <td>894</td>\n",
       "      <td>11</td>\n",
       "      <td>13</td>\n",
       "      <td>838</td>\n",
       "      <td>894</td>\n",
       "      <td>11</td>\n",
       "      <td>0.0</td>\n",
       "      <td>0</td>\n",
       "    </tr>\n",
       "  </tbody>\n",
       "</table>\n",
       "<p>5 rows × 21 columns</p>\n",
       "</div>"
      ],
      "text/plain": [
       "       URL  URL_LENGTH  NUMBER_SPECIAL_CHARACTERS     CHARSET  \\\n",
       "0  B0_2314          16                          6       UTF-8   \n",
       "1   B0_911          16                          6    us-ascii   \n",
       "2   B0_113          17                          6  ISO-8859-1   \n",
       "3   B0_403          17                          6       UTF-8   \n",
       "4  B0_2064          18                          7       UTF-8   \n",
       "\n",
       "                  SERVER  CONTENT_LENGTH WHOIS_COUNTRY WHOIS_STATEPRO  \\\n",
       "0          Apache/2.4.10         15087.0          None           None   \n",
       "1  Microsoft-HTTPAPI/2.0           324.0          None           None   \n",
       "2                  nginx           162.0            US             AK   \n",
       "3                   None        124140.0            US             TX   \n",
       "4                  nginx             NaN            SC           Mahe   \n",
       "\n",
       "     WHOIS_REGDATE WHOIS_UPDATED_DATE  ...  DIST_REMOTE_TCP_PORT  REMOTE_IPS  \\\n",
       "0             None               None  ...                     7           4   \n",
       "1             None               None  ...                     0           0   \n",
       "2   7/10/1997 4:00    12/09/2013 0:45  ...                    22           3   \n",
       "3  12/05/1996 0:00    11/04/2017 0:00  ...                     2           5   \n",
       "4  3/08/2016 14:30     3/10/2016 3:45  ...                     6           9   \n",
       "\n",
       "   APP_BYTES  SOURCE_APP_PACKETS  REMOTE_APP_PACKETS  SOURCE_APP_BYTES  \\\n",
       "0       1230                  17                  19              1265   \n",
       "1          0                   0                   0                 0   \n",
       "2       3812                  39                  37             18784   \n",
       "3       4278                  61                  62            129889   \n",
       "4        894                  11                  13               838   \n",
       "\n",
       "   REMOTE_APP_BYTES  APP_PACKETS  DNS_QUERY_TIMES  Type  \n",
       "0              1230           17              0.0     0  \n",
       "1                 0            0              0.0     0  \n",
       "2              4380           39              8.0     0  \n",
       "3              4586           61              4.0     0  \n",
       "4               894           11              0.0     0  \n",
       "\n",
       "[5 rows x 21 columns]"
      ]
     },
     "execution_count": 238,
     "metadata": {},
     "output_type": "execute_result"
    }
   ],
   "source": [
    "import pandas as pd\n",
    "import seaborn as sns\n",
    "import numpy as np\n",
    "from sklearn.preprocessing import normalize\n",
    "from sklearn.model_selection import train_test_split\n",
    "from sklearn.linear_model import LogisticRegression\n",
    "from sklearn.metrics import accuracy_score\n",
    "\n",
    "data = pd.read_csv(\"Train.csv\")\n",
    "data.head()"
   ]
  },
  {
   "cell_type": "code",
   "execution_count": 249,
   "id": "525c132a-ada6-4661-a69c-56b643fbe5a9",
   "metadata": {},
   "outputs": [],
   "source": [
    "from sklearn.preprocessing import OneHotEncoder\n",
    "def transform(data, column_name):\n",
    "    # so that the WHOIS_COUNTRY column is the same each run\n",
    "    data[column_name] = pd.read_csv(\"Train.csv\")[column_name]\n",
    "\n",
    "    data[column_name] = data[column_name].apply(lambda x: x.upper())\n",
    "    data[column_name] = data[column_name].str.replace('UNITED KINGDOM', 'UK', case= False) \n",
    "    data[column_name] = data[column_name].fillna(\"NONE\")\n",
    "    X= data[column_name]\n",
    "    index  = 0\n",
    "    array = []\n",
    "    for name in list(X.value_counts().index):\n",
    "        array.append([name, index])\n",
    "        index += 1\n",
    "\n",
    "    COUNTRY_enc = OneHotEncoder(drop='first').fit(array)\n",
    "\n",
    "    country_dictionary = {}\n",
    "    cats = COUNTRY_enc.categories_[0]\n",
    "    indices = COUNTRY_enc.categories_[1]\n",
    "    for cat, index in zip(cats, indices):\n",
    "        country_dictionary[cat] = index\n",
    "\n",
    "\n",
    "    countries = [[country, country_dictionary[country]] for country in list(data[column_name].fillna(\"NONE\"))]\n",
    "    data[column_name] = [x[1] for x in countries]\n"
   ]
  },
  {
   "cell_type": "markdown",
   "id": "25bfd868-8639-4982-b878-bdfad097e62d",
   "metadata": {},
   "source": [
    "## Transform the categorical features"
   ]
  },
  {
   "cell_type": "markdown",
   "id": "a077e9eb-b4b6-45fb-b9c0-8dbe0a5f641f",
   "metadata": {},
   "source": [
    "### Transform CHARSET"
   ]
  },
  {
   "cell_type": "code",
   "execution_count": 250,
   "id": "976cf72c-19be-4155-9428-1f8e86c1679a",
   "metadata": {},
   "outputs": [],
   "source": [
    "# so that the WHOIS_COUNTRY column is the same each run\n",
    "data[\"CHARSET\"] = pd.read_csv(\"Train.csv\")[\"CHARSET\"]\n",
    "transform(data, \"CHARSET\")"
   ]
  },
  {
   "cell_type": "markdown",
   "id": "fa3d6361-f57b-4d53-967c-4b2575bee014",
   "metadata": {},
   "source": [
    "### Transform URL"
   ]
  },
  {
   "cell_type": "code",
   "execution_count": 251,
   "id": "0aaa875f-ba32-4e93-95db-bbbb6ef68197",
   "metadata": {},
   "outputs": [],
   "source": [
    "# so that the WHOIS_COUNTRY column is the same each run\n",
    "data[\"URL\"] = pd.read_csv(\"Train.csv\")[\"URL\"]\n",
    "transform(data, \"URL\")"
   ]
  },
  {
   "cell_type": "markdown",
   "id": "4fb245bb-7fd3-474b-b283-d07c42065973",
   "metadata": {},
   "source": [
    "### Transform WHOIS_STATEPRO"
   ]
  },
  {
   "cell_type": "code",
   "execution_count": 252,
   "id": "8e4f84a5-ba2d-4a4c-9dcc-0141b58296d4",
   "metadata": {},
   "outputs": [],
   "source": [
    "# so that the WHOIS_STATEPRO column is the same each run\n",
    "data[\"WHOIS_STATEPRO\"] = pd.read_csv(\"Train.csv\")[\"WHOIS_STATEPRO\"]\n",
    "transform(data, \"WHOIS_STATEPRO\")"
   ]
  },
  {
   "cell_type": "markdown",
   "id": "08fb4be6-c442-4551-a1f9-d0d5599bf12f",
   "metadata": {},
   "source": [
    "### Transform SERVER"
   ]
  },
  {
   "cell_type": "code",
   "execution_count": 253,
   "id": "2907d275-0123-41f3-bf27-544e35243ce3",
   "metadata": {},
   "outputs": [
    {
     "ename": "AttributeError",
     "evalue": "'float' object has no attribute 'upper'",
     "output_type": "error",
     "traceback": [
      "\u001b[0;31m---------------------------------------------------------------------------\u001b[0m",
      "\u001b[0;31mAttributeError\u001b[0m                            Traceback (most recent call last)",
      "\u001b[0;32m<ipython-input-253-1c709e42f566>\u001b[0m in \u001b[0;36m<module>\u001b[0;34m\u001b[0m\n\u001b[1;32m      1\u001b[0m \u001b[0;31m# so that the WHOIS_COUNTRY column is the same each run\u001b[0m\u001b[0;34m\u001b[0m\u001b[0;34m\u001b[0m\u001b[0;34m\u001b[0m\u001b[0m\n\u001b[1;32m      2\u001b[0m \u001b[0mdata\u001b[0m\u001b[0;34m[\u001b[0m\u001b[0;34m\"SERVER\"\u001b[0m\u001b[0;34m]\u001b[0m \u001b[0;34m=\u001b[0m \u001b[0mpd\u001b[0m\u001b[0;34m.\u001b[0m\u001b[0mread_csv\u001b[0m\u001b[0;34m(\u001b[0m\u001b[0;34m\"Train.csv\"\u001b[0m\u001b[0;34m)\u001b[0m\u001b[0;34m[\u001b[0m\u001b[0;34m\"SERVER\"\u001b[0m\u001b[0;34m]\u001b[0m\u001b[0;34m\u001b[0m\u001b[0;34m\u001b[0m\u001b[0m\n\u001b[0;32m----> 3\u001b[0;31m \u001b[0mtransform\u001b[0m\u001b[0;34m(\u001b[0m\u001b[0mdata\u001b[0m\u001b[0;34m,\u001b[0m \u001b[0;34m\"SERVER\"\u001b[0m\u001b[0;34m)\u001b[0m\u001b[0;34m\u001b[0m\u001b[0;34m\u001b[0m\u001b[0m\n\u001b[0m",
      "\u001b[0;32m<ipython-input-249-e980c27c26ac>\u001b[0m in \u001b[0;36mtransform\u001b[0;34m(data, column_name)\u001b[0m\n\u001b[1;32m      4\u001b[0m     \u001b[0mdata\u001b[0m\u001b[0;34m[\u001b[0m\u001b[0mcolumn_name\u001b[0m\u001b[0;34m]\u001b[0m \u001b[0;34m=\u001b[0m \u001b[0mpd\u001b[0m\u001b[0;34m.\u001b[0m\u001b[0mread_csv\u001b[0m\u001b[0;34m(\u001b[0m\u001b[0;34m\"Train.csv\"\u001b[0m\u001b[0;34m)\u001b[0m\u001b[0;34m[\u001b[0m\u001b[0mcolumn_name\u001b[0m\u001b[0;34m]\u001b[0m\u001b[0;34m\u001b[0m\u001b[0;34m\u001b[0m\u001b[0m\n\u001b[1;32m      5\u001b[0m \u001b[0;34m\u001b[0m\u001b[0m\n\u001b[0;32m----> 6\u001b[0;31m     \u001b[0mdata\u001b[0m\u001b[0;34m[\u001b[0m\u001b[0mcolumn_name\u001b[0m\u001b[0;34m]\u001b[0m \u001b[0;34m=\u001b[0m \u001b[0mdata\u001b[0m\u001b[0;34m[\u001b[0m\u001b[0mcolumn_name\u001b[0m\u001b[0;34m]\u001b[0m\u001b[0;34m.\u001b[0m\u001b[0mapply\u001b[0m\u001b[0;34m(\u001b[0m\u001b[0;32mlambda\u001b[0m \u001b[0mx\u001b[0m\u001b[0;34m:\u001b[0m \u001b[0mx\u001b[0m\u001b[0;34m.\u001b[0m\u001b[0mupper\u001b[0m\u001b[0;34m(\u001b[0m\u001b[0;34m)\u001b[0m\u001b[0;34m)\u001b[0m\u001b[0;34m\u001b[0m\u001b[0;34m\u001b[0m\u001b[0m\n\u001b[0m\u001b[1;32m      7\u001b[0m     \u001b[0mdata\u001b[0m\u001b[0;34m[\u001b[0m\u001b[0mcolumn_name\u001b[0m\u001b[0;34m]\u001b[0m \u001b[0;34m=\u001b[0m \u001b[0mdata\u001b[0m\u001b[0;34m[\u001b[0m\u001b[0mcolumn_name\u001b[0m\u001b[0;34m]\u001b[0m\u001b[0;34m.\u001b[0m\u001b[0mstr\u001b[0m\u001b[0;34m.\u001b[0m\u001b[0mreplace\u001b[0m\u001b[0;34m(\u001b[0m\u001b[0;34m'UNITED KINGDOM'\u001b[0m\u001b[0;34m,\u001b[0m \u001b[0;34m'UK'\u001b[0m\u001b[0;34m,\u001b[0m \u001b[0mcase\u001b[0m\u001b[0;34m=\u001b[0m \u001b[0;32mFalse\u001b[0m\u001b[0;34m)\u001b[0m\u001b[0;34m\u001b[0m\u001b[0;34m\u001b[0m\u001b[0m\n\u001b[1;32m      8\u001b[0m     \u001b[0mdata\u001b[0m\u001b[0;34m[\u001b[0m\u001b[0mcolumn_name\u001b[0m\u001b[0;34m]\u001b[0m \u001b[0;34m=\u001b[0m \u001b[0mdata\u001b[0m\u001b[0;34m[\u001b[0m\u001b[0mcolumn_name\u001b[0m\u001b[0;34m]\u001b[0m\u001b[0;34m.\u001b[0m\u001b[0mfillna\u001b[0m\u001b[0;34m(\u001b[0m\u001b[0;34m\"NONE\"\u001b[0m\u001b[0;34m)\u001b[0m\u001b[0;34m\u001b[0m\u001b[0;34m\u001b[0m\u001b[0m\n",
      "\u001b[0;32m~/anaconda3/envs/LTR_annotator/lib/python3.9/site-packages/pandas/core/series.py\u001b[0m in \u001b[0;36mapply\u001b[0;34m(self, func, convert_dtype, args, **kwds)\u001b[0m\n\u001b[1;32m   4136\u001b[0m             \u001b[0;32melse\u001b[0m\u001b[0;34m:\u001b[0m\u001b[0;34m\u001b[0m\u001b[0;34m\u001b[0m\u001b[0m\n\u001b[1;32m   4137\u001b[0m                 \u001b[0mvalues\u001b[0m \u001b[0;34m=\u001b[0m \u001b[0mself\u001b[0m\u001b[0;34m.\u001b[0m\u001b[0mastype\u001b[0m\u001b[0;34m(\u001b[0m\u001b[0mobject\u001b[0m\u001b[0;34m)\u001b[0m\u001b[0;34m.\u001b[0m\u001b[0m_values\u001b[0m\u001b[0;34m\u001b[0m\u001b[0;34m\u001b[0m\u001b[0m\n\u001b[0;32m-> 4138\u001b[0;31m                 \u001b[0mmapped\u001b[0m \u001b[0;34m=\u001b[0m \u001b[0mlib\u001b[0m\u001b[0;34m.\u001b[0m\u001b[0mmap_infer\u001b[0m\u001b[0;34m(\u001b[0m\u001b[0mvalues\u001b[0m\u001b[0;34m,\u001b[0m \u001b[0mf\u001b[0m\u001b[0;34m,\u001b[0m \u001b[0mconvert\u001b[0m\u001b[0;34m=\u001b[0m\u001b[0mconvert_dtype\u001b[0m\u001b[0;34m)\u001b[0m\u001b[0;34m\u001b[0m\u001b[0;34m\u001b[0m\u001b[0m\n\u001b[0m\u001b[1;32m   4139\u001b[0m \u001b[0;34m\u001b[0m\u001b[0m\n\u001b[1;32m   4140\u001b[0m         \u001b[0;32mif\u001b[0m \u001b[0mlen\u001b[0m\u001b[0;34m(\u001b[0m\u001b[0mmapped\u001b[0m\u001b[0;34m)\u001b[0m \u001b[0;32mand\u001b[0m \u001b[0misinstance\u001b[0m\u001b[0;34m(\u001b[0m\u001b[0mmapped\u001b[0m\u001b[0;34m[\u001b[0m\u001b[0;36m0\u001b[0m\u001b[0;34m]\u001b[0m\u001b[0;34m,\u001b[0m \u001b[0mSeries\u001b[0m\u001b[0;34m)\u001b[0m\u001b[0;34m:\u001b[0m\u001b[0;34m\u001b[0m\u001b[0;34m\u001b[0m\u001b[0m\n",
      "\u001b[0;32mpandas/_libs/lib.pyx\u001b[0m in \u001b[0;36mpandas._libs.lib.map_infer\u001b[0;34m()\u001b[0m\n",
      "\u001b[0;32m<ipython-input-249-e980c27c26ac>\u001b[0m in \u001b[0;36m<lambda>\u001b[0;34m(x)\u001b[0m\n\u001b[1;32m      4\u001b[0m     \u001b[0mdata\u001b[0m\u001b[0;34m[\u001b[0m\u001b[0mcolumn_name\u001b[0m\u001b[0;34m]\u001b[0m \u001b[0;34m=\u001b[0m \u001b[0mpd\u001b[0m\u001b[0;34m.\u001b[0m\u001b[0mread_csv\u001b[0m\u001b[0;34m(\u001b[0m\u001b[0;34m\"Train.csv\"\u001b[0m\u001b[0;34m)\u001b[0m\u001b[0;34m[\u001b[0m\u001b[0mcolumn_name\u001b[0m\u001b[0;34m]\u001b[0m\u001b[0;34m\u001b[0m\u001b[0;34m\u001b[0m\u001b[0m\n\u001b[1;32m      5\u001b[0m \u001b[0;34m\u001b[0m\u001b[0m\n\u001b[0;32m----> 6\u001b[0;31m     \u001b[0mdata\u001b[0m\u001b[0;34m[\u001b[0m\u001b[0mcolumn_name\u001b[0m\u001b[0;34m]\u001b[0m \u001b[0;34m=\u001b[0m \u001b[0mdata\u001b[0m\u001b[0;34m[\u001b[0m\u001b[0mcolumn_name\u001b[0m\u001b[0;34m]\u001b[0m\u001b[0;34m.\u001b[0m\u001b[0mapply\u001b[0m\u001b[0;34m(\u001b[0m\u001b[0;32mlambda\u001b[0m \u001b[0mx\u001b[0m\u001b[0;34m:\u001b[0m \u001b[0mx\u001b[0m\u001b[0;34m.\u001b[0m\u001b[0mupper\u001b[0m\u001b[0;34m(\u001b[0m\u001b[0;34m)\u001b[0m\u001b[0;34m)\u001b[0m\u001b[0;34m\u001b[0m\u001b[0;34m\u001b[0m\u001b[0m\n\u001b[0m\u001b[1;32m      7\u001b[0m     \u001b[0mdata\u001b[0m\u001b[0;34m[\u001b[0m\u001b[0mcolumn_name\u001b[0m\u001b[0;34m]\u001b[0m \u001b[0;34m=\u001b[0m \u001b[0mdata\u001b[0m\u001b[0;34m[\u001b[0m\u001b[0mcolumn_name\u001b[0m\u001b[0;34m]\u001b[0m\u001b[0;34m.\u001b[0m\u001b[0mstr\u001b[0m\u001b[0;34m.\u001b[0m\u001b[0mreplace\u001b[0m\u001b[0;34m(\u001b[0m\u001b[0;34m'UNITED KINGDOM'\u001b[0m\u001b[0;34m,\u001b[0m \u001b[0;34m'UK'\u001b[0m\u001b[0;34m,\u001b[0m \u001b[0mcase\u001b[0m\u001b[0;34m=\u001b[0m \u001b[0;32mFalse\u001b[0m\u001b[0;34m)\u001b[0m\u001b[0;34m\u001b[0m\u001b[0;34m\u001b[0m\u001b[0m\n\u001b[1;32m      8\u001b[0m     \u001b[0mdata\u001b[0m\u001b[0;34m[\u001b[0m\u001b[0mcolumn_name\u001b[0m\u001b[0;34m]\u001b[0m \u001b[0;34m=\u001b[0m \u001b[0mdata\u001b[0m\u001b[0;34m[\u001b[0m\u001b[0mcolumn_name\u001b[0m\u001b[0;34m]\u001b[0m\u001b[0;34m.\u001b[0m\u001b[0mfillna\u001b[0m\u001b[0;34m(\u001b[0m\u001b[0;34m\"NONE\"\u001b[0m\u001b[0;34m)\u001b[0m\u001b[0;34m\u001b[0m\u001b[0;34m\u001b[0m\u001b[0m\n",
      "\u001b[0;31mAttributeError\u001b[0m: 'float' object has no attribute 'upper'"
     ]
    }
   ],
   "source": [
    "# so that the WHOIS_COUNTRY column is the same each run\n",
    "data[\"SERVER\"] = pd.read_csv(\"Train.csv\")[\"SERVER\"]\n",
    "transform(data, \"SERVER\")\n",
    "#TODO need to convert float values to string"
   ]
  },
  {
   "cell_type": "markdown",
   "id": "9addf3b3-fed1-4e91-a6b6-3335001a1b55",
   "metadata": {},
   "source": [
    "### Transform WHOIS_COUNTRY"
   ]
  },
  {
   "cell_type": "code",
   "execution_count": 169,
   "id": "ddc38e97-4d0e-4e5c-8d02-a7cf3d1981eb",
   "metadata": {},
   "outputs": [],
   "source": [
    "# so that the WHOIS_COUNTRY column is the same each run\n",
    "data[\"WHOIS_COUNTRY\"] = pd.read_csv(\"Train.csv\")[\"WHOIS_COUNTRY\"]\n",
    "transform(data, \"WHOIS_COUNTRY\")"
   ]
  },
  {
   "cell_type": "markdown",
   "id": "e48166ba-3b4a-4cca-b8e2-6b1bcbaf476d",
   "metadata": {},
   "source": [
    "### Detect the features most correlated with type"
   ]
  },
  {
   "cell_type": "code",
   "execution_count": 176,
   "id": "a6ec1f0d-83ff-4dfb-9d84-eb028412a31f",
   "metadata": {},
   "outputs": [
    {
     "data": {
      "text/plain": [
       "URL                          0.544331\n",
       "URL_LENGTH                   0.150140\n",
       "NUMBER_SPECIAL_CHARACTERS    0.262379\n",
       "CHARSET                      0.028940\n",
       "SERVER                      -0.091686\n",
       "CONTENT_LENGTH              -0.098117\n",
       "WHOIS_COUNTRY               -0.223252\n",
       "WHOIS_STATEPRO               0.012171\n",
       "TCP_CONVERSATION_EXCHANGE   -0.048396\n",
       "DIST_REMOTE_TCP_PORT        -0.077496\n",
       "REMOTE_IPS                  -0.067438\n",
       "APP_BYTES                   -0.011302\n",
       "SOURCE_APP_PACKETS          -0.040544\n",
       "REMOTE_APP_PACKETS          -0.037299\n",
       "SOURCE_APP_BYTES            -0.058839\n",
       "REMOTE_APP_BYTES            -0.011090\n",
       "APP_PACKETS                 -0.040544\n",
       "DNS_QUERY_TIMES              0.062952\n",
       "Type                         1.000000\n",
       "Name: Type, dtype: float64"
      ]
     },
     "execution_count": 176,
     "metadata": {},
     "output_type": "execute_result"
    }
   ],
   "source": [
    "data_transformed = data.drop([\"WHOIS_REGDATE\", \"WHOIS_UPDATED_DATE\"], axis=1)\n",
    "#data_transformed = (data_transformed-data_transformed.mean())/data_transformed.std()\n",
    "data_transformed.corr()[\"Type\"]"
   ]
  },
  {
   "cell_type": "markdown",
   "id": "ee980637-c114-4077-97fa-2afc87f051a2",
   "metadata": {},
   "source": [
    "#### The most correlated ones are: \n",
    "- \"URL\"\n",
    "- \"URL_LENGTH\"\n",
    "- \"NUMBER_SPECIAL_CHARACTERS\"\n",
    "- \"WHOIS_COUNTRY\""
   ]
  },
  {
   "cell_type": "code",
   "execution_count": 235,
   "id": "0caa6b1d-62c3-43bd-ab5a-97eebc78d74f",
   "metadata": {},
   "outputs": [
    {
     "data": {
      "text/plain": [
       "<AxesSubplot:>"
      ]
     },
     "execution_count": 235,
     "metadata": {},
     "output_type": "execute_result"
    },
    {
     "data": {
      "image/png": "[encoded data removed]",
      "text/plain": [
       "<Figure size 432x288 with 2 Axes>"
      ]
     },
     "metadata": {
      "needs_background": "light"
     },
     "output_type": "display_data"
    }
   ],
   "source": [
    "sns.heatmap(data.corr())"
   ]
  },
  {
   "cell_type": "markdown",
   "id": "1fd2ca4a-759d-421b-bee2-48124f7cacaf",
   "metadata": {},
   "source": [
    "### Using PCA for data visualisation\n",
    "##### In order to be able to create 2 dimensional plots, we use the principal component analysis reduction technique on the top 4 correlated features"
   ]
  },
  {
   "cell_type": "code",
   "execution_count": 233,
   "id": "b5c8bb54-f7db-4195-8f7b-f25b44986159",
   "metadata": {},
   "outputs": [
    {
     "data": {
      "text/plain": [
       "Text(0.5, 1.0, 'PCA reduced data')"
      ]
     },
     "execution_count": 233,
     "metadata": {},
     "output_type": "execute_result"
    },
    {
     "data": {
      "image/png": "[encoded data removed]",
      "text/plain": [
       "<Figure size 432x288 with 1 Axes>"
      ]
     },
     "metadata": {
      "needs_background": "light"
     },
     "output_type": "display_data"
    }
   ],
   "source": [
    "from sklearn.decomposition import PCA\n",
    "from  seaborn import scatterplot\n",
    "\n",
    "pca = PCA(n_components=2)\n",
    "col=data[[\"URL\", \"URL_LENGTH\", \"NUMBER_SPECIAL_CHARACTERS\", \"WHOIS_COUNTRY\"]]\n",
    "col = (col-col.mean())/col.std()\n",
    "\n",
    "sc= pca.fit_transform(col)\n",
    "plt= scatterplot(x=[x[0] for x in sc],y=[x[1]for x in sc],hue=data[\"Type\"])\n",
    "plt.set_title('PCA reduced data')"
   ]
  },
  {
   "cell_type": "markdown",
   "id": "aa2ab385-ef21-463c-a3c5-899d4f0ab9ad",
   "metadata": {},
   "source": [
    "### Detect NAs in the numerical features"
   ]
  },
  {
   "cell_type": "code",
   "execution_count": 146,
   "id": "bff59a08-0c7f-46ce-9d56-6625c3324f3b",
   "metadata": {},
   "outputs": [
    {
     "name": "stdout",
     "output_type": "stream",
     "text": [
      "NAs present in CONTENT_LENGTH: True\n",
      "NAs present in NUMBER_SPECIAL_CHARACTERS: False\n",
      "NAs present in URL_LENGTH: False\n",
      "NAs present in DIST_REMOTE_TCP_PORT: False\n",
      "NAs present in REMOTE_IPS: False\n"
     ]
    }
   ],
   "source": [
    "print(\"NAs present in NUMBER_SPECIAL_CHARACTERS:\", any(data[\"NUMBER_SPECIAL_CHARACTERS\"].isna()))\n",
    "print(\"NAs present in URL_LENGTH:\", any(data[\"URL_LENGTH\"].isna()))"
   ]
  },
  {
   "cell_type": "code",
   "execution_count": 236,
   "id": "67b3242b-e2e0-4b8b-a436-421ce96154dc",
   "metadata": {},
   "outputs": [
    {
     "name": "stdout",
     "output_type": "stream",
     "text": [
      "The accuracy on the test set is 1.0\n"
     ]
    }
   ],
   "source": [
    "# take the highest correlated rows\n",
    "X = data_transformed[[\"URL\", \"URL_LENGTH\", \"NUMBER_SPECIAL_CHARACTERS\", \"WHOIS_COUNTRY\", \"Type\"]]\n",
    "\n",
    "# take all rows with class 1\n",
    "class_1 = X[X[\"Type\"] == 1]\n",
    "\n",
    "# get amount of class 1s\n",
    "n_class_1 = len(class_1)\n",
    "\n",
    "# randomly sample rows with Type 0 n_class_1 times\n",
    "class_0 = X[X[\"Type\"] == 0].sample(n=n_class_1, random_state=1)\n",
    "\n",
    "# join the two into one final dataframe \n",
    "X = pd.concat([class_1, class_0])\n",
    "\n",
    "# extract the class and features\n",
    "Y = X[\"Type\"]\n",
    "X = X.drop([\"Type\"], axis=1)\n",
    "\n",
    "# split into train and test set\n",
    "X_train, X_test, y_train, y_test = train_test_split(X, Y, test_size=0.3, random_state=42)\n",
    "\n",
    "LR = LogisticRegression().fit(X_train, y_train)\n",
    "print(\"The accuracy on the test set is\", accuracy_score(y_test, LR.predict(X_test)))"
   ]
  },
  {
   "cell_type": "markdown",
   "id": "58ad5de7-19ad-4e35-83c4-ad5fd686bdc0",
   "metadata": {},
   "source": [
    "### Only CONTENT_LENGTH needs to be cleaned\n",
    "##### Linear regression is applied to missing values\n",
    "- The rows could be omitted, however rows with missing \"CONTENT_LENGTH\" are often of \"Type\" 1, the lesser class and we therefore want to avoid dropping these\n",
    "\n",
    "##### Another alternative is to replace these with 0 and see if the classifier is able to predict using this information"
   ]
  },
  {
   "cell_type": "markdown",
   "id": "a8fa53a2-1b64-45da-bdcb-e8ff826b97c9",
   "metadata": {},
   "source": [
    "### Regress the values"
   ]
  },
  {
   "cell_type": "code",
   "execution_count": 147,
   "id": "6a442ecd-ad58-4443-a030-8e7274d0e9a6",
   "metadata": {},
   "outputs": [
    {
     "data": {
      "text/plain": [
       "URL                         -0.061756\n",
       "URL_LENGTH                   0.067569\n",
       "NUMBER_SPECIAL_CHARACTERS    0.075240\n",
       "CHARSET                      0.222859\n",
       "SERVER                      -0.031947\n",
       "CONTENT_LENGTH               1.000000\n",
       "WHOIS_COUNTRY               -0.013513\n",
       "WHOIS_STATEPRO               0.019319\n",
       "TCP_CONVERSATION_EXCHANGE    0.225403\n",
       "DIST_REMOTE_TCP_PORT        -0.001285\n",
       "REMOTE_IPS                   0.021816\n",
       "APP_BYTES                    0.140473\n",
       "SOURCE_APP_PACKETS           0.207385\n",
       "REMOTE_APP_PACKETS           0.239295\n",
       "SOURCE_APP_BYTES             0.269330\n",
       "REMOTE_APP_BYTES             0.128048\n",
       "APP_PACKETS                  0.207385\n",
       "DNS_QUERY_TIMES             -0.043746\n",
       "Type                        -0.098117\n",
       "Name: CONTENT_LENGTH, dtype: float64"
      ]
     },
     "execution_count": 147,
     "metadata": {},
     "output_type": "execute_result"
    }
   ],
   "source": [
    "# find the values most correlated with CONTENT_LENGTH for the regression\n",
    "data.corr()[\"CONTENT_LENGTH\"]"
   ]
  },
  {
   "cell_type": "code",
   "execution_count": 149,
   "id": "ae61565b-73ab-4ebf-80d9-263fa84e35c9",
   "metadata": {},
   "outputs": [],
   "source": [
    "# select CONTENT_LENGTH rows with non-missing values\n",
    "non_na_rows = data[data[\"CONTENT_LENGTH\"].notna()]\n",
    "\n",
    "# select the highest correlated columns\n",
    "reg_X = non_na_rows[[\"TCP_CONVERSATION_EXCHANGE\", \"REMOTE_APP_PACKETS\", \"SOURCE_APP_PACKETS\", \"SOURCE_APP_BYTES\", \"APP_PACKETS\"]]\n",
    "reg_y = non_na_rows[\"CONTENT_LENGTH\"]"
   ]
  },
  {
   "cell_type": "code",
   "execution_count": 150,
   "id": "beeb4999-ecd6-44d9-a359-8d63b8d73ac7",
   "metadata": {},
   "outputs": [],
   "source": [
    "from sklearn.linear_model import LinearRegression\n",
    "\n",
    "regressor = LinearRegression().fit(reg_X, reg_y)"
   ]
  },
  {
   "cell_type": "markdown",
   "id": "54de3dac-e271-4b1e-9c80-9ef1088cb77d",
   "metadata": {},
   "source": [
    "### Predict missing values "
   ]
  },
  {
   "cell_type": "code",
   "execution_count": 151,
   "id": "3efa01bf-3207-4c5c-8075-320b5f313ded",
   "metadata": {},
   "outputs": [],
   "source": [
    "content_length_values = list(data[\"CONTENT_LENGTH\"])\n",
    "nas = list(data[\"CONTENT_LENGTH\"].isna())\n",
    "na_rows = data[data[\"CONTENT_LENGTH\"].isna()][[\"TCP_CONVERSATION_EXCHANGE\", \"REMOTE_APP_PACKETS\", \"SOURCE_APP_PACKETS\", \"SOURCE_APP_BYTES\", \"APP_PACKETS\"]]\n",
    "predictions = regressor.predict(na_rows)\n",
    "\n",
    "\n",
    "index = 0\n",
    "for i in range(len(nas)):\n",
    "    if nas[i]:\n",
    "        content_length_values[i] = predictions[index]\n",
    "        index += 1\n",
    "data_copy = data.copy()\n",
    "data_copy[\"CONTENT_LENGTH\"] = content_length_values"
   ]
  },
  {
   "cell_type": "markdown",
   "id": "b6f4d9f8-2c68-4c1f-9963-1c2c4ccd8c30",
   "metadata": {},
   "source": [
    "### Replace with 0"
   ]
  },
  {
   "cell_type": "code",
   "execution_count": 152,
   "id": "174a9278-4a4c-40c3-9a50-9e7221858364",
   "metadata": {},
   "outputs": [],
   "source": [
    "X = data[[\"URL_LENGTH\", \"NUMBER_SPECIAL_CHARACTERS\", \"DIST_REMOTE_TCP_PORT\", \"REMOTE_IPS\"]]\n",
    "y = data[\"Type\"]\n",
    "X_cleaned = data_copy[[\"URL_LENGTH\", \"NUMBER_SPECIAL_CHARACTERS\", \"DIST_REMOTE_TCP_PORT\", \"REMOTE_IPS\", \"CONTENT_LENGTH\"]]"
   ]
  },
  {
   "cell_type": "code",
   "execution_count": null,
   "id": "30c71077-8a7f-49fe-bc3c-310f7fd925cb",
   "metadata": {},
   "outputs": [],
   "source": []
  },
  {
   "cell_type": "code",
   "execution_count": 107,
   "id": "b3c39db9-b224-4102-b532-8336f49ca73b",
   "metadata": {},
   "outputs": [
    {
     "data": {
      "text/plain": [
       "0.9023255813953488"
      ]
     },
     "execution_count": 107,
     "metadata": {},
     "output_type": "execute_result"
    }
   ],
   "source": [
    "from sklearn.model_selection import train_test_split\n",
    "from sklearn.linear_model import LogisticRegression\n",
    "from sklearn.metrics import accuracy_score\n",
    "\n",
    "X_train, X_test, y_train, y_test = train_test_split(X,y, test_size=0.3, random_state=42)\n",
    "LR = LogisticRegression().fit(X_train, y_train)\n",
    "accuracy_score(y_test, LR.predict(X_test))"
   ]
  },
  {
   "cell_type": "code",
   "execution_count": 108,
   "id": "a3b1360e-cb5b-4c81-93fb-b827cc9a22df",
   "metadata": {},
   "outputs": [
    {
     "name": "stderr",
     "output_type": "stream",
     "text": [
      "/home/jakubhorvath/anaconda3/envs/LTR_annotator/lib/python3.9/site-packages/sklearn/linear_model/_logistic.py:763: ConvergenceWarning: lbfgs failed to converge (status=1):\n",
      "STOP: TOTAL NO. of ITERATIONS REACHED LIMIT.\n",
      "\n",
      "Increase the number of iterations (max_iter) or scale the data as shown in:\n",
      "    https://scikit-learn.org/stable/modules/preprocessing.html\n",
      "Please also refer to the documentation for alternative solver options:\n",
      "    https://scikit-learn.org/stable/modules/linear_model.html#logistic-regression\n",
      "  n_iter_i = _check_optimize_result(\n"
     ]
    },
    {
     "data": {
      "text/plain": [
       "0.9"
      ]
     },
     "execution_count": 108,
     "metadata": {},
     "output_type": "execute_result"
    }
   ],
   "source": [
    "# classification with the regressed CONTENT_LENGTH\n",
    "\n",
    "X_train, X_test, y_train, y_test = train_test_split(X_cleaned, y, test_size=0.3, random_state=42)\n",
    "LR = LogisticRegression().fit(X_train, y_train)\n",
    "accuracy_score(y_test, LR.predict(X_test))"
   ]
  },
  {
   "cell_type": "markdown",
   "id": "4dbf3e5a-067d-4de0-b1b0-c0d2d8d11c81",
   "metadata": {},
   "source": [
    "### The data has a class imbalance problem"
   ]
  },
  {
   "cell_type": "code",
   "execution_count": 5,
   "id": "532b32ad-90a1-4622-9359-ad86b5ba6cc2",
   "metadata": {},
   "outputs": [
    {
     "name": "stdout",
     "output_type": "stream",
     "text": [
      "Number of rows with class 0 is 1272\n",
      "Number of rows with class 1 is 159\n"
     ]
    }
   ],
   "source": [
    "print(\"Number of rows with class 0 is\", len(data[data[\"Type\"] == 0]))\n",
    "print(\"Number of rows with class 1 is\", len(data[data[\"Type\"] == 1]))"
   ]
  },
  {
   "cell_type": "markdown",
   "id": "b95c5d3c-c765-45af-88ba-bb5cf89bf8f7",
   "metadata": {},
   "source": [
    "### Sample the same number of examples from class 1 and 0"
   ]
  },
  {
   "cell_type": "code",
   "execution_count": 109,
   "id": "73936ab7-fced-41a7-8b0c-e5ec2a0fe6ba",
   "metadata": {},
   "outputs": [],
   "source": [
    "# take all rows with class 1\n",
    "class_1 = data[data[\"Type\"] == 1]\n",
    "\n",
    "# get amount of class 1s\n",
    "n_class_1 = len(class_1)\n",
    "\n",
    "# randomly sample rows with Type 0 n_class_1 times\n",
    "class_0 = data[data[\"Type\"] == 0].sample(n=n_class_1, random_state=1)\n",
    "\n",
    "# join the two into one final dataframe \n",
    "X = pd.concat([class_1, class_0])\n",
    "\n",
    "# extract the class and features\n",
    "Y = X[\"Type\"]\n",
    "X = X.drop([\"Type\"], axis=1)\n",
    "\n",
    "# split into train and test set\n",
    "X_train, X_test, y_train, y_test = train_test_split(X, Y, test_size=0.3, random_state=42)"
   ]
  },
  {
   "cell_type": "raw",
   "id": "51d3ca1b-8ebc-464f-ab02-77a774717ff6",
   "metadata": {},
   "source": [
    "class_1 = data_copy[data_copy[\"Type\"] == 1]\n",
    "n_class_1 = len(class_1)\n",
    "class_0 = data_copy[data_copy[\"Type\"] == 0].sample(n=n_class_1*5, random_state=1)\n",
    "\n",
    "X = pd.concat([class_1, class_0])\n",
    "Y = X[\"Type\"]\n",
    "X = X.drop([\"Type\"], axis=1)\n",
    "X_train, X_test, y_train, y_test = train_test_split(X, Y, test_size=0.3, random_state=42)"
   ]
  },
  {
   "cell_type": "code",
   "execution_count": 230,
   "id": "4726a206-9950-4edb-be28-9d9c8e3fa139",
   "metadata": {},
   "outputs": [],
   "source": [
    "\n",
    "\n",
    "# match the country to a numerical value for the train and test set\n",
    "country_train = [[country, country_dictionary[country]] for country in list(X_train[\"WHOIS_COUNTRY\"].fillna(\"NONE\"))]\n",
    "country_test = [[country, country_dictionary[country]] for country in list(X_test[\"WHOIS_COUNTRY\"].fillna(\"NONE\"))]\n",
    "\n",
    "# match the charset to a numerical value for the train and test set\n",
    "charset_train = [[charset, charset_dictionary[charset]] for charset in list(X_train[\"CHARSET\"].fillna(\"NONE\"))]\n",
    "charset_test = [[charset, charset_dictionary[charset]] for charset in list(X_test[\"CHARSET\"].fillna(\"NONE\"))]\n",
    "\n",
    "# convert the train and test sets to a numpy array\n",
    "X_train = X_train[[\"URL_LENGTH\", \"NUMBER_SPECIAL_CHARACTERS\", \"DIST_REMOTE_TCP_PORT\", \"REMOTE_IPS\"]].to_numpy()\n",
    "X_test = X_test[[\"URL_LENGTH\", \"NUMBER_SPECIAL_CHARACTERS\", \"DIST_REMOTE_TCP_PORT\", \"REMOTE_IPS\"]].to_numpy()\n",
    "\n",
    "# add the country values to the train and test set\n",
    "country_ids = [x[1] for x in country_train]\n",
    "X_train = [np.append(x,country) for x, country in zip(X_train, country_ids)]\n",
    "country_ids = [x[1] for x in country_test]\n",
    "X_test = [np.append(x,country) for x, country in zip(X_test, country_ids)]\n",
    "\n",
    "# add the charset values to the train and test set\n",
    "charset_ids = [x[1] for x in charset_train]\n",
    "X_train = [np.append(x,charset) for x, charset in zip(X_train, charset_ids)]\n",
    "charset_ids = [x[1] for x in charset_test]\n",
    "X_test = [np.append(x,charset) for x, charset in zip(X_test, charset_ids)]"
   ]
  },
  {
   "cell_type": "code",
   "execution_count": 231,
   "id": "9f318575-ac12-4f7d-8b90-b40218198958",
   "metadata": {},
   "outputs": [
    {
     "name": "stderr",
     "output_type": "stream",
     "text": [
      "/home/jakubhorvath/anaconda3/envs/LTR_annotator/lib/python3.9/site-packages/sklearn/svm/_base.py:985: ConvergenceWarning: Liblinear failed to converge, increase the number of iterations.\n",
      "  warnings.warn(\"Liblinear failed to converge, increase \"\n"
     ]
    }
   ],
   "source": [
    "from sklearn.ensemble import RandomForestClassifier\n",
    "from sklearn.svm import LinearSVC, SVC\n",
    "\n",
    "# try fitting multiple models on this data\n",
    "LR = LogisticRegression().fit(X_train, y_train)\n",
    "RFC = RandomForestClassifier().fit(X_train, y_train)\n",
    "LSVC = LinearSVC().fit(X_train, y_train)\n",
    "SVC = SVC().fit(X_train, y_train)"
   ]
  },
  {
   "cell_type": "code",
   "execution_count": 232,
   "id": "d8b52c4f-26c7-4620-a6bb-b1077c5c4178",
   "metadata": {},
   "outputs": [
    {
     "name": "stdout",
     "output_type": "stream",
     "text": [
      "0.8850174216027874\n",
      "0.9303135888501742\n",
      "0.37282229965156793\n",
      "0.8641114982578397\n"
     ]
    }
   ],
   "source": [
    "# test the model's accuracy against the test set\n",
    "print(accuracy_score(y_test, LR.predict(X_test)))\n",
    "print(accuracy_score(y_test, RFC.predict(X_test)))\n",
    "print(accuracy_score(y_test, LSVC.predict(X_test)))\n",
    "print(accuracy_score(y_test, SVC.predict(X_test)))"
   ]
  },
  {
   "cell_type": "markdown",
   "id": "91a08275-371a-48ae-a289-a9d7b5f81242",
   "metadata": {},
   "source": [
    "### To fix the class imbalance problem we implemented SMOTE"
   ]
  },
  {
   "cell_type": "code",
   "execution_count": 233,
   "id": "103d8627-482c-4a8d-8a32-a8b6dc401bf9",
   "metadata": {},
   "outputs": [
    {
     "data": {
      "text/plain": [
       "'\\nfor label, _ in counter.items():\\n\\trow_ix = where(y == label)[0]\\n\\tpyplot.scatter(X[row_ix, 0], X[row_ix, 1], label=str(label))\\npyplot.legend()\\npyplot.show()'"
      ]
     },
     "execution_count": 233,
     "metadata": {},
     "output_type": "execute_result"
    }
   ],
   "source": [
    "from imblearn.over_sampling import SMOTE\n",
    "from matplotlib import pyplot\n",
    "from numpy import where\n",
    "from collections import Counter\n",
    "\n",
    "# convert the data into arrays for SMOTE\n",
    "X = X_train + X_test\n",
    "y_train = y_train.to_numpy() \n",
    "y_test = y_test.to_numpy()\n",
    "y = np.append(y_train, y_test)\n",
    "\n",
    "# creates the SMOTE objects, fits and oversamples them\n",
    "oversample = SMOTE(random_state=42)\n",
    "X, y = oversample.fit_resample(X, y)\n",
    "\n",
    "\n",
    "\"\"\"\n",
    "counter = Counter(y)\n",
    " \n",
    "\n",
    "for label, _ in counter.items():\n",
    "\trow_ix = where(y == label)[0]\n",
    "\tpyplot.scatter(X[row_ix, 0], X[row_ix, 1], label=str(label))\n",
    "pyplot.legend()\n",
    "pyplot.show()\"\"\""
   ]
  },
  {
   "cell_type": "code",
   "execution_count": 234,
   "id": "4187f129-ce26-43eb-ae5b-32d56a04f2db",
   "metadata": {},
   "outputs": [],
   "source": [
    "# Splits into train and test set and trains two models\n",
    "X_train, X_test, y_train, y_test = train_test_split(X, y, test_size=0.3, random_state=42)\n",
    "LR = LogisticRegression().fit(X_train, y_train)\n",
    "RFC = RandomForestClassifier().fit(X_train, y_train)"
   ]
  },
  {
   "cell_type": "code",
   "execution_count": 235,
   "id": "26e56699-3b62-4a3a-bc80-f52b256c4d4d",
   "metadata": {},
   "outputs": [
    {
     "data": {
      "text/plain": [
       "0.9727463312368972"
      ]
     },
     "execution_count": 235,
     "metadata": {},
     "output_type": "execute_result"
    }
   ],
   "source": [
    "# Test the accuracy on the SMOTE test set\n",
    "accuracy_score(y_test, LR.predict(X_test))\n",
    "accuracy_score(y_test, RFC.predict(X_test))"
   ]
  },
  {
   "cell_type": "code",
   "execution_count": 236,
   "id": "edf97369-a4be-4e31-b9b9-b809eebe8636",
   "metadata": {},
   "outputs": [],
   "source": [
    "class_1 = data_copy[data_copy[\"Type\"] == 1]\n",
    "n_class_1 = len(class_1)\n",
    "class_0 = data_copy[data_copy[\"Type\"] == 0].sample(n=n_class_1, random_state=1)\n",
    "\n",
    "X = pd.concat([class_1, class_0])\n",
    "Y = X[\"Type\"]\n",
    "X = X.drop([\"Type\"], axis=1)\n",
    "X_train, X_test, y_train, y_test = train_test_split(X, Y, test_size=0.3, random_state=42)\n",
    "import numpy as np\n",
    "from sklearn.preprocessing import normalize\n",
    "country_train = [[country, country_dictionary[country]] for country in list(X_train[\"WHOIS_COUNTRY\"].fillna(\"NONE\"))]\n",
    "country_test = [[country, country_dictionary[country]] for country in list(X_test[\"WHOIS_COUNTRY\"].fillna(\"NONE\"))]\n",
    "\n",
    "\n",
    "charset_train = [[charset, charset_dictionary[charset]] for charset in list(X_train[\"CHARSET\"].fillna(\"NONE\"))]\n",
    "charset_test = [[charset, charset_dictionary[charset]] for charset in list(X_test[\"CHARSET\"].fillna(\"NONE\"))]\n",
    "\n",
    "#countries = COUNTRY_enc.transform(country).toarray()\n",
    "\n",
    "X_train = X_train[[\"URL_LENGTH\", \"NUMBER_SPECIAL_CHARACTERS\", \"DIST_REMOTE_TCP_PORT\", \"REMOTE_IPS\"]].to_numpy()\n",
    "X_test = X_test[[\"URL_LENGTH\", \"NUMBER_SPECIAL_CHARACTERS\", \"DIST_REMOTE_TCP_PORT\", \"REMOTE_IPS\"]].to_numpy()\n",
    "\n",
    "#countries = COUNTRY_enc.transform(country).toarray()\n",
    "\n",
    "country_ids = [x[1] for x in country_train]\n",
    "X_train = [np.append(x,country) for x, country in zip(X_train, country_ids)]\n",
    "country_ids = [x[1] for x in country_test]\n",
    "X_test = [np.append(x,country) for x, country in zip(X_test, country_ids)]\n",
    "\n",
    "charset_ids = [x[1] for x in charset_train]\n",
    "X_train = [np.append(x,charset) for x, charset in zip(X_train, charset_ids)]\n",
    "charset_ids = [x[1] for x in charset_test]\n",
    "X_test = [np.append(x,charset) for x, charset in zip(X_test, charset_ids)]\n",
    "\n",
    "#X_train = normalize(X_train, norm='l2')\n",
    "#X_test = normalize(X_test, norm='l2')\n",
    "#TODO append another column of one hot encoded features"
   ]
  },
  {
   "cell_type": "code",
   "execution_count": 237,
   "id": "2e72a238-cb54-4d7a-a3c9-bbde541c402f",
   "metadata": {
    "tags": []
   },
   "outputs": [
    {
     "data": {
      "text/plain": [
       "0.9968553459119497"
      ]
     },
     "execution_count": 237,
     "metadata": {},
     "output_type": "execute_result"
    }
   ],
   "source": [
    "# test the accuracy on the non-SMOTE test set\n",
    "accuracy_score(np.append(y_train, y_test), RFC.predict(X_train + X_test))"
   ]
  },
  {
   "cell_type": "code",
   "execution_count": 227,
   "id": "26806818-b2cf-487b-9741-2ee6481c90a7",
   "metadata": {},
   "outputs": [
    {
     "data": {
      "text/plain": [
       "159"
      ]
     },
     "execution_count": 227,
     "metadata": {},
     "output_type": "execute_result"
    }
   ],
   "source": []
  },
  {
   "cell_type": "code",
   "execution_count": null,
   "id": "26757e7d-a6ee-493a-a4bd-4135c60c12f3",
   "metadata": {},
   "outputs": [],
   "source": []
  }
 ],
 "metadata": {
  "kernelspec": {
   "display_name": "Python 3",
   "language": "python",
   "name": "python3"
  },
  "language_info": {
   "codemirror_mode": {
    "name": "ipython",
    "version": 3
   },
   "file_extension": ".py",
   "mimetype": "text/x-python",
   "name": "python",
   "nbconvert_exporter": "python",
   "pygments_lexer": "ipython3",
   "version": "3.9.5"
  }
 },
 "nbformat": 4,
 "nbformat_minor": 5
}
