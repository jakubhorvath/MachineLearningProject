{
 "cells": [
  {
   "cell_type": "markdown",
   "id": "fdf51a04-4e9e-4ca3-a41a-2549455bd728",
   "metadata": {},
   "source": [
    "##### TODO consider turning the None Values into 1/1/0001 0:0"
   ]
  },
  {
   "cell_type": "code",
   "execution_count": 127,
   "id": "e3558330-1565-41e4-b5f2-2078cf90adf7",
   "metadata": {},
   "outputs": [],
   "source": [
    "def datetime_normalize(time):\n",
    "    if \"-\" in time:\n",
    "        split_time = time.split(\"-\")\n",
    "        year = split_time[0]\n",
    "        month = split_time[1]\n",
    "        day = split_time[2][:2]\n",
    "        split_time = split_time[2][3:].split(\":\")\n",
    "        hour = split_time[0]\n",
    "        minute = split_time[1]\n",
    "        return f\"{day}/{month}/{year} {hour}:{minute}\"\n",
    "    if \"None\" in time:\n",
    "        # this is in case we decide to keep rows with None\n",
    "        return \"1/1/2000 0:0\"\n",
    "    else:\n",
    "        return time"
   ]
  },
  {
   "cell_type": "code",
   "execution_count": 128,
   "id": "a8449393-6223-4250-850d-bd7761b1d0a5",
   "metadata": {},
   "outputs": [],
   "source": [
    "import pandas as pd\n",
    "\n",
    "data = pd.read_csv(\"Train.csv\")\n",
    "\n",
    "#data[\"WHOIS_REGDATE\"] = data[ data[\"WHOIS_REGDATE\"].notna()]\n",
    "#data[\"WHOIS_UPDATED_DATE\"] = data[data[\"WHOIS_UPDATED_DATE\"].notna()]\n",
    "\n",
    "data[\"WHOIS_REGDATE\"] = data[\"WHOIS_REGDATE\"][~data[\"WHOIS_REGDATE\"].isin([\"b\",  \"0\"])].apply(lambda x: datetime_normalize(x))\n",
    "data[\"WHOIS_UPDATED_DATE\"] = data[\"WHOIS_UPDATED_DATE\"][~data[\"WHOIS_UPDATED_DATE\"].isin([\"b\", \"0\"])].apply(lambda x: datetime_normalize(x))"
   ]
  },
  {
   "cell_type": "code",
   "execution_count": 129,
   "id": "b5339324-6381-4370-a22b-b069d3999056",
   "metadata": {},
   "outputs": [],
   "source": [
    "data[\"WHOIS_REGDATE\"] = pd.to_datetime(data[\"WHOIS_REGDATE\"], format=\"%d/%m/%Y %H:%M\")\n",
    "data[\"WHOIS_UPDATED_DATE\"] = pd.to_datetime(data[\"WHOIS_UPDATED_DATE\"], format=\"%d/%m/%Y %H:%M\")"
   ]
  },
  {
   "cell_type": "code",
   "execution_count": 130,
   "id": "1addb29a-f476-44cc-9994-e6c683de9904",
   "metadata": {},
   "outputs": [
    {
     "data": {
      "text/plain": [
       "0      2000-01-01 00:00:00\n",
       "1      2000-01-01 00:00:00\n",
       "2      1997-10-07 04:00:00\n",
       "3      1996-05-12 00:00:00\n",
       "4      2016-08-03 14:30:00\n",
       "               ...        \n",
       "1426   2008-09-17 00:00:00\n",
       "1427   2008-09-17 00:00:00\n",
       "1428   1999-02-15 00:00:00\n",
       "1429   1998-04-01 00:00:00\n",
       "1430   2008-11-14 00:00:00\n",
       "Name: WHOIS_REGDATE, Length: 1431, dtype: datetime64[ns]"
      ]
     },
     "execution_count": 130,
     "metadata": {},
     "output_type": "execute_result"
    }
   ],
   "source": [
    "data[\"WHOIS_REGDATE\"]"
   ]
  },
  {
   "cell_type": "code",
   "execution_count": null,
   "id": "7c6ade9a-2a4f-48a2-b431-5a5709cd61f3",
   "metadata": {},
   "outputs": [],
   "source": []
  },
  {
   "cell_type": "code",
   "execution_count": null,
   "id": "d20f2a88-fd38-4e3d-a941-de37eba7d9de",
   "metadata": {},
   "outputs": [],
   "source": []
  }
 ],
 "metadata": {
  "kernelspec": {
   "display_name": "Python 3",
   "language": "python",
   "name": "python3"
  },
  "language_info": {
   "codemirror_mode": {
    "name": "ipython",
    "version": 3
   },
   "file_extension": ".py",
   "mimetype": "text/x-python",
   "name": "python",
   "nbconvert_exporter": "python",
   "pygments_lexer": "ipython3",
   "version": "3.9.5"
  }
 },
 "nbformat": 4,
 "nbformat_minor": 5
}
